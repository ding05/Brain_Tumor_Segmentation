{
  "nbformat": 4,
  "nbformat_minor": 0,
  "metadata": {
    "colab": {
      "name": "3/18 Segmentation Brain Tumor.ipynb",
      "provenance": [],
      "collapsed_sections": []
    },
    "kernelspec": {
      "name": "python3",
      "display_name": "Python 3"
    },
    "accelerator": "GPU"
  },
  "cells": [
    {
      "cell_type": "markdown",
      "metadata": {
        "id": "o3bb881J8eIa"
      },
      "source": [
        "Refer to Pytorch Image Segmentation Tutorial For Beginners, by Seyma Tas, on Medium.\n",
        "\n",
        "Reproduce the experiment; add and slightly modify the code."
      ]
    },
    {
      "cell_type": "code",
      "metadata": {
        "id": "RdfjlOgZvfhl"
      },
      "source": [
        "image_data = []\n",
        "mask_data = []"
      ],
      "execution_count": null,
      "outputs": []
    },
    {
      "cell_type": "code",
      "metadata": {
        "id": "bZv5pc25viS1"
      },
      "source": [
        "filenames = range(1,3065)"
      ],
      "execution_count": null,
      "outputs": []
    },
    {
      "cell_type": "code",
      "metadata": {
        "colab": {
          "base_uri": "https://localhost:8080/"
        },
        "id": "8p_t14-_0DIO",
        "outputId": "e5b0dc1a-08af-4c52-b495-efc6d458f694"
      },
      "source": [
        "from google.colab import drive\n",
        "drive.mount('/gdrive', force_remount=True)"
      ],
      "execution_count": null,
      "outputs": [
        {
          "output_type": "stream",
          "text": [
            "Mounted at /gdrive\n"
          ],
          "name": "stdout"
        }
      ]
    },
    {
      "cell_type": "code",
      "metadata": {
        "id": "xTjYxew20KVm"
      },
      "source": [
        "!cp '/gdrive/My Drive/brainTumorData.zip' 'brainTumorData.zip'\n",
        "!yes None | unzip -q brainTumorData.zip"
      ],
      "execution_count": null,
      "outputs": []
    },
    {
      "cell_type": "code",
      "metadata": {
        "id": "QZcL0VosvkGq"
      },
      "source": [
        "import h5py\n",
        "import numpy as np\n",
        "\n",
        "for name in filenames:\n",
        "  file = h5py.File('/content/brainTumorData/'+str(name)+'.mat', 'r').get('cjdata')\n",
        "  \n",
        "  input = file.get('image')[()]\n",
        "  mask = file.get('tumorMask')[()]\n",
        "  try: # Use \"try\" to ignore the unsuitable images.\n",
        "    input = np.reshape(input,(64,64,64))\n",
        "    input = np.expand_dims(input,axis=0)\n",
        "    image_data.append(input)\n",
        "  except:\n",
        "    pass\n",
        "\n",
        "  try:\n",
        "    mask = np.reshape(mask,(64,64,64))\n",
        "    mask = np.expand_dims(mask,axis=0)\n",
        "    mask_data.append(mask)\n",
        "  except:\n",
        "    pass"
      ],
      "execution_count": null,
      "outputs": []
    },
    {
      "cell_type": "code",
      "metadata": {
        "colab": {
          "base_uri": "https://localhost:8080/"
        },
        "id": "daF8W23__M0V",
        "outputId": "b81ce699-fd93-4fd3-8b66-6ae37699315f"
      },
      "source": [
        "print(len(image_data))"
      ],
      "execution_count": null,
      "outputs": [
        {
          "output_type": "stream",
          "text": [
            "3049\n"
          ],
          "name": "stdout"
        }
      ]
    },
    {
      "cell_type": "code",
      "metadata": {
        "id": "fZVAyRG18nfn"
      },
      "source": [
        "from sklearn.model_selection import train_test_split\n",
        "\n",
        "image_train_data, image_test_data, mask_train_data, mask_test_data = train_test_split(image_data, mask_data, test_size = 0.1, random_state=123)\n",
        "image_train_data, image_val_data, mask_train_data, mask_val_data = train_test_split(image_train_data,mask_train_data, test_size = 0.111, random_state=123)"
      ],
      "execution_count": null,
      "outputs": []
    },
    {
      "cell_type": "code",
      "metadata": {
        "id": "r3vKnokcBF9Q"
      },
      "source": [
        "import torch\n",
        "import torch.nn as nn\n",
        "import torch.nn.functional as F"
      ],
      "execution_count": null,
      "outputs": []
    },
    {
      "cell_type": "code",
      "metadata": {
        "id": "T12ZV3PHA51S"
      },
      "source": [
        "image_train_data = torch.Tensor(image_train_data) \n",
        "mask_train_data = torch.Tensor(mask_train_data)\n",
        "\n",
        "image_val_data = torch.Tensor(image_val_data) \n",
        "mask_val_data = torch.Tensor(mask_val_data)\n",
        "\n",
        "image_test_data = torch.Tensor(image_test_data) \n",
        "mask_test_data = torch.Tensor(mask_test_data)"
      ],
      "execution_count": null,
      "outputs": []
    },
    {
      "cell_type": "code",
      "metadata": {
        "colab": {
          "base_uri": "https://localhost:8080/"
        },
        "id": "yqGIZxsVAcZC",
        "outputId": "48ec3368-6526-4525-e15f-9acc6e5aba42"
      },
      "source": [
        "image_train_data.shape"
      ],
      "execution_count": null,
      "outputs": [
        {
          "output_type": "execute_result",
          "data": {
            "text/plain": [
              "torch.Size([2439, 1, 64, 64, 64])"
            ]
          },
          "metadata": {
            "tags": []
          },
          "execution_count": 10
        }
      ]
    },
    {
      "cell_type": "code",
      "metadata": {
        "id": "wL3SjPdMBLDI"
      },
      "source": [
        "train_dataset = torch.utils.data.TensorDataset(image_train_data, mask_train_data) # Change it!\n",
        "\n",
        "val_dataset = torch.utils.data.TensorDataset(image_val_data, mask_val_data)\n",
        "\n",
        "test_dataset = torch.utils.data.TensorDataset(image_test_data, mask_test_data)"
      ],
      "execution_count": null,
      "outputs": []
    },
    {
      "cell_type": "code",
      "metadata": {
        "id": "IUiIoUh8BNSB"
      },
      "source": [
        "train_dataloader = torch.utils.data.DataLoader(train_dataset, batch_size = 4, num_workers = 2, shuffle = True)\n",
        "\n",
        "val_dataloader = torch.utils.data.DataLoader(val_dataset, batch_size = 4, num_workers = 2, shuffle = True)\n",
        "\n",
        "test_dataloader = torch.utils.data.DataLoader(test_dataset, batch_size = 4, num_workers = 2, shuffle = True)"
      ],
      "execution_count": null,
      "outputs": []
    },
    {
      "cell_type": "markdown",
      "metadata": {
        "id": "ek2k7VaVDLMW"
      },
      "source": [
        "Use U-Net.\n",
        "\n",
        "Use unet3d.py from Models Genesis, by Zongwei Zhou, on GitHub."
      ]
    },
    {
      "cell_type": "code",
      "metadata": {
        "id": "gsOBB6e1BWlw"
      },
      "source": [
        "class ContBatchNorm3d(nn.modules.batchnorm._BatchNorm):\n",
        "    def _check_input_dim(self, input):\n",
        "\n",
        "        if input.dim() != 5:\n",
        "            raise ValueError('expected 5D input (got {}D input)'.format(input.dim()))\n",
        "\n",
        "    def forward(self, input):\n",
        "        self._check_input_dim(input)\n",
        "        return F.batch_norm(\n",
        "            input, self.running_mean, self.running_var, self.weight, self.bias,\n",
        "            True, self.momentum, self.eps)\n",
        "\n",
        "class LUConv(nn.Module):\n",
        "    def __init__(self, in_chan, out_chan, act):\n",
        "        super(LUConv, self).__init__()\n",
        "        self.conv1 = nn.Conv3d(in_chan, out_chan, kernel_size=3, padding=1)\n",
        "        self.bn1 = ContBatchNorm3d(out_chan)\n",
        "\n",
        "        if act == 'relu':\n",
        "            self.activation = nn.ReLU(out_chan)\n",
        "        elif act == 'prelu':\n",
        "            self.activation = nn.PReLU(out_chan)\n",
        "        elif act == 'elu':\n",
        "            self.activation = nn.ELU(inplace=True)\n",
        "        else:\n",
        "            raise\n",
        "\n",
        "    def forward(self, x):\n",
        "        out = self.activation(self.bn1(self.conv1(x)))\n",
        "        return out\n",
        "\n",
        "\n",
        "def _make_nConv(in_channel, depth, act, double_chnnel=False):\n",
        "    if double_chnnel:\n",
        "        layer1 = LUConv(in_channel, 32 * (2 ** (depth+1)),act)\n",
        "        layer2 = LUConv(32 * (2 ** (depth+1)), 32 * (2 ** (depth+1)),act)\n",
        "    else:\n",
        "        layer1 = LUConv(in_channel, 32*(2**depth),act)\n",
        "        layer2 = LUConv(32*(2**depth), 32*(2**depth)*2,act)\n",
        "\n",
        "    return nn.Sequential(layer1,layer2)\n",
        "\n",
        "class DownTransition(nn.Module):\n",
        "    def __init__(self, in_channel,depth, act):\n",
        "        super(DownTransition, self).__init__()\n",
        "        self.ops = _make_nConv(in_channel, depth,act)\n",
        "        self.maxpool = nn.MaxPool3d(2)\n",
        "        self.current_depth = depth\n",
        "\n",
        "    def forward(self, x):\n",
        "        if self.current_depth == 3:\n",
        "            out = self.ops(x)\n",
        "            out_before_pool = out\n",
        "        else:\n",
        "            out_before_pool = self.ops(x)\n",
        "            out = self.maxpool(out_before_pool)\n",
        "        return out, out_before_pool\n",
        "\n",
        "class UpTransition(nn.Module):\n",
        "    def __init__(self, inChans, outChans, depth,act):\n",
        "        super(UpTransition, self).__init__()\n",
        "        self.depth = depth\n",
        "        self.up_conv = nn.ConvTranspose3d(inChans, outChans, kernel_size=2, stride=2)\n",
        "        self.ops = _make_nConv(inChans+ outChans//2,depth, act, double_chnnel=True)\n",
        "\n",
        "    def forward(self, x, skip_x):\n",
        "        out_up_conv = self.up_conv(x)\n",
        "        concat = torch.cat((out_up_conv,skip_x),1)\n",
        "        out = self.ops(concat)\n",
        "        return out\n",
        "\n",
        "class OutputTransition(nn.Module):\n",
        "    def __init__(self, inChans, n_labels):\n",
        "\n",
        "        super(OutputTransition, self).__init__()\n",
        "        self.final_conv = nn.Conv3d(inChans, n_labels, kernel_size=1)\n",
        "        self.sigmoid = nn.Sigmoid()\n",
        "\n",
        "    def forward(self, x):\n",
        "        out = self.sigmoid(self.final_conv(x))\n",
        "        return out\n",
        "\n",
        "class UNet3D(nn.Module):\n",
        "    # the number of convolutions in each layer corresponds\n",
        "    # to what is in the actual prototxt, not the intent\n",
        "    def __init__(self, n_class=1, act='relu'):\n",
        "        super(UNet3D, self).__init__()\n",
        "\n",
        "        self.down_tr64 = DownTransition(1,0,act)\n",
        "        self.down_tr128 = DownTransition(64,1,act)\n",
        "        self.down_tr256 = DownTransition(128,2,act)\n",
        "        self.down_tr512 = DownTransition(256,3,act)\n",
        "\n",
        "        self.up_tr256 = UpTransition(512, 512,2,act)\n",
        "        self.up_tr128 = UpTransition(256,256, 1,act)\n",
        "        self.up_tr64 = UpTransition(128,128,0,act)\n",
        "        self.out_tr = OutputTransition(64, n_class)\n",
        "\n",
        "    def forward(self, x):\n",
        "        self.out64, self.skip_out64 = self.down_tr64(x)\n",
        "        self.out128,self.skip_out128 = self.down_tr128(self.out64)\n",
        "        self.out256,self.skip_out256 = self.down_tr256(self.out128)\n",
        "        self.out512,self.skip_out512 = self.down_tr512(self.out256)\n",
        "\n",
        "        self.out_up_256 = self.up_tr256(self.out512,self.skip_out256)\n",
        "        self.out_up_128 = self.up_tr128(self.out_up_256, self.skip_out128)\n",
        "        self.out_up_64 = self.up_tr64(self.out_up_128, self.skip_out64)\n",
        "        self.out = self.out_tr(self.out_up_64)\n",
        "\n",
        "        return self.out"
      ],
      "execution_count": null,
      "outputs": []
    },
    {
      "cell_type": "code",
      "metadata": {
        "id": "Mn7ICeGqC6KX"
      },
      "source": [
        "model = UNet3D()"
      ],
      "execution_count": null,
      "outputs": []
    },
    {
      "cell_type": "code",
      "metadata": {
        "id": "BhEAfddMC95u"
      },
      "source": [
        "weight_dir = '/gdrive/My Drive/Genesis_Chest_CT.pt'"
      ],
      "execution_count": null,
      "outputs": []
    },
    {
      "cell_type": "code",
      "metadata": {
        "id": "En4cXg8MDAdu"
      },
      "source": [
        "checkpoint = torch.load(weight_dir,map_location=torch.device('cpu'))\n",
        "\n",
        "state_dict = checkpoint['state_dict']"
      ],
      "execution_count": null,
      "outputs": []
    },
    {
      "cell_type": "code",
      "metadata": {
        "id": "CHtffDXNDB6F"
      },
      "source": [
        "unParalled_state_dict = {}"
      ],
      "execution_count": null,
      "outputs": []
    },
    {
      "cell_type": "code",
      "metadata": {
        "id": "NlSDmzJ6DDQu"
      },
      "source": [
        "for key in state_dict.keys():\n",
        "  unParalled_state_dict[key.replace(\"module.\", \"\")] = state_dict[key]"
      ],
      "execution_count": null,
      "outputs": []
    },
    {
      "cell_type": "code",
      "metadata": {
        "colab": {
          "base_uri": "https://localhost:8080/"
        },
        "id": "jE155y1NDFlu",
        "outputId": "f43015d9-5150-4e90-ee7b-cafe4253767f"
      },
      "source": [
        "model.load_state_dict(unParalled_state_dict)"
      ],
      "execution_count": null,
      "outputs": [
        {
          "output_type": "execute_result",
          "data": {
            "text/plain": [
              "<All keys matched successfully>"
            ]
          },
          "metadata": {
            "tags": []
          },
          "execution_count": 19
        }
      ]
    },
    {
      "cell_type": "markdown",
      "metadata": {
        "id": "qC7GDmbADITW"
      },
      "source": [
        "Define the loss functions.\n",
        "\n",
        "Refer to How To Evaluate Image Segmentation Models?, by Seyma Tas, on Towards Data Science."
      ]
    },
    {
      "cell_type": "code",
      "metadata": {
        "id": "Pkllmn9aDGZI"
      },
      "source": [
        "def dice_loss(inputs, target):\n",
        "    num = target.size(0)\n",
        "    inputs = inputs.reshape(num, -1)\n",
        "    target = target.reshape(num, -1)\n",
        "    smooth = 1.0\n",
        "    intersection = (inputs * target)\n",
        "    dice = (2. * intersection.sum(1) + smooth) / (inputs.sum(1) + target.sum(1) + smooth)\n",
        "    dice = 1 - dice.sum() / num\n",
        "    return dice\n",
        "\n",
        "def bce_dice_loss(inputs, target):\n",
        "    dicescore = dice_loss(inputs, target)\n",
        "    bcescore = nn.BCELoss()\n",
        "    bceloss = bcescore(inputs, target)\n",
        "    return bceloss + dicescore"
      ],
      "execution_count": null,
      "outputs": []
    },
    {
      "cell_type": "code",
      "metadata": {
        "id": "hMxkSf6MDaAu"
      },
      "source": [
        "criterion = bce_dice_loss"
      ],
      "execution_count": null,
      "outputs": []
    },
    {
      "cell_type": "code",
      "metadata": {
        "id": "M1PxbrovDcrZ"
      },
      "source": [
        "from torch.optim import AdamW\n",
        "\n",
        "optimizer = AdamW(model.parameters(), 0.1)"
      ],
      "execution_count": null,
      "outputs": []
    },
    {
      "cell_type": "code",
      "metadata": {
        "id": "tMKa54M5Dd2x"
      },
      "source": [
        "from torch.optim import lr_scheduler \n",
        "\n",
        "scheduler = lr_scheduler.StepLR(optimizer, step_size=5, gamma=0.5)"
      ],
      "execution_count": null,
      "outputs": []
    },
    {
      "cell_type": "code",
      "metadata": {
        "id": "j915UNRPDfNv"
      },
      "source": [
        "device = torch.device('cuda:0' if torch.cuda.is_available() else 'cpu')"
      ],
      "execution_count": null,
      "outputs": []
    },
    {
      "cell_type": "code",
      "metadata": {
        "colab": {
          "base_uri": "https://localhost:8080/"
        },
        "id": "gXAdZ6QZDqrg",
        "outputId": "7638900a-0f75-4469-af5d-154a524a3f0a"
      },
      "source": [
        "model.to(device)"
      ],
      "execution_count": null,
      "outputs": [
        {
          "output_type": "execute_result",
          "data": {
            "text/plain": [
              "UNet3D(\n",
              "  (down_tr64): DownTransition(\n",
              "    (ops): Sequential(\n",
              "      (0): LUConv(\n",
              "        (conv1): Conv3d(1, 32, kernel_size=(3, 3, 3), stride=(1, 1, 1), padding=(1, 1, 1))\n",
              "        (bn1): ContBatchNorm3d(32, eps=1e-05, momentum=0.1, affine=True, track_running_stats=True)\n",
              "        (activation): ReLU(inplace=True)\n",
              "      )\n",
              "      (1): LUConv(\n",
              "        (conv1): Conv3d(32, 64, kernel_size=(3, 3, 3), stride=(1, 1, 1), padding=(1, 1, 1))\n",
              "        (bn1): ContBatchNorm3d(64, eps=1e-05, momentum=0.1, affine=True, track_running_stats=True)\n",
              "        (activation): ReLU(inplace=True)\n",
              "      )\n",
              "    )\n",
              "    (maxpool): MaxPool3d(kernel_size=2, stride=2, padding=0, dilation=1, ceil_mode=False)\n",
              "  )\n",
              "  (down_tr128): DownTransition(\n",
              "    (ops): Sequential(\n",
              "      (0): LUConv(\n",
              "        (conv1): Conv3d(64, 64, kernel_size=(3, 3, 3), stride=(1, 1, 1), padding=(1, 1, 1))\n",
              "        (bn1): ContBatchNorm3d(64, eps=1e-05, momentum=0.1, affine=True, track_running_stats=True)\n",
              "        (activation): ReLU(inplace=True)\n",
              "      )\n",
              "      (1): LUConv(\n",
              "        (conv1): Conv3d(64, 128, kernel_size=(3, 3, 3), stride=(1, 1, 1), padding=(1, 1, 1))\n",
              "        (bn1): ContBatchNorm3d(128, eps=1e-05, momentum=0.1, affine=True, track_running_stats=True)\n",
              "        (activation): ReLU(inplace=True)\n",
              "      )\n",
              "    )\n",
              "    (maxpool): MaxPool3d(kernel_size=2, stride=2, padding=0, dilation=1, ceil_mode=False)\n",
              "  )\n",
              "  (down_tr256): DownTransition(\n",
              "    (ops): Sequential(\n",
              "      (0): LUConv(\n",
              "        (conv1): Conv3d(128, 128, kernel_size=(3, 3, 3), stride=(1, 1, 1), padding=(1, 1, 1))\n",
              "        (bn1): ContBatchNorm3d(128, eps=1e-05, momentum=0.1, affine=True, track_running_stats=True)\n",
              "        (activation): ReLU(inplace=True)\n",
              "      )\n",
              "      (1): LUConv(\n",
              "        (conv1): Conv3d(128, 256, kernel_size=(3, 3, 3), stride=(1, 1, 1), padding=(1, 1, 1))\n",
              "        (bn1): ContBatchNorm3d(256, eps=1e-05, momentum=0.1, affine=True, track_running_stats=True)\n",
              "        (activation): ReLU(inplace=True)\n",
              "      )\n",
              "    )\n",
              "    (maxpool): MaxPool3d(kernel_size=2, stride=2, padding=0, dilation=1, ceil_mode=False)\n",
              "  )\n",
              "  (down_tr512): DownTransition(\n",
              "    (ops): Sequential(\n",
              "      (0): LUConv(\n",
              "        (conv1): Conv3d(256, 256, kernel_size=(3, 3, 3), stride=(1, 1, 1), padding=(1, 1, 1))\n",
              "        (bn1): ContBatchNorm3d(256, eps=1e-05, momentum=0.1, affine=True, track_running_stats=True)\n",
              "        (activation): ReLU(inplace=True)\n",
              "      )\n",
              "      (1): LUConv(\n",
              "        (conv1): Conv3d(256, 512, kernel_size=(3, 3, 3), stride=(1, 1, 1), padding=(1, 1, 1))\n",
              "        (bn1): ContBatchNorm3d(512, eps=1e-05, momentum=0.1, affine=True, track_running_stats=True)\n",
              "        (activation): ReLU(inplace=True)\n",
              "      )\n",
              "    )\n",
              "    (maxpool): MaxPool3d(kernel_size=2, stride=2, padding=0, dilation=1, ceil_mode=False)\n",
              "  )\n",
              "  (up_tr256): UpTransition(\n",
              "    (up_conv): ConvTranspose3d(512, 512, kernel_size=(2, 2, 2), stride=(2, 2, 2))\n",
              "    (ops): Sequential(\n",
              "      (0): LUConv(\n",
              "        (conv1): Conv3d(768, 256, kernel_size=(3, 3, 3), stride=(1, 1, 1), padding=(1, 1, 1))\n",
              "        (bn1): ContBatchNorm3d(256, eps=1e-05, momentum=0.1, affine=True, track_running_stats=True)\n",
              "        (activation): ReLU(inplace=True)\n",
              "      )\n",
              "      (1): LUConv(\n",
              "        (conv1): Conv3d(256, 256, kernel_size=(3, 3, 3), stride=(1, 1, 1), padding=(1, 1, 1))\n",
              "        (bn1): ContBatchNorm3d(256, eps=1e-05, momentum=0.1, affine=True, track_running_stats=True)\n",
              "        (activation): ReLU(inplace=True)\n",
              "      )\n",
              "    )\n",
              "  )\n",
              "  (up_tr128): UpTransition(\n",
              "    (up_conv): ConvTranspose3d(256, 256, kernel_size=(2, 2, 2), stride=(2, 2, 2))\n",
              "    (ops): Sequential(\n",
              "      (0): LUConv(\n",
              "        (conv1): Conv3d(384, 128, kernel_size=(3, 3, 3), stride=(1, 1, 1), padding=(1, 1, 1))\n",
              "        (bn1): ContBatchNorm3d(128, eps=1e-05, momentum=0.1, affine=True, track_running_stats=True)\n",
              "        (activation): ReLU(inplace=True)\n",
              "      )\n",
              "      (1): LUConv(\n",
              "        (conv1): Conv3d(128, 128, kernel_size=(3, 3, 3), stride=(1, 1, 1), padding=(1, 1, 1))\n",
              "        (bn1): ContBatchNorm3d(128, eps=1e-05, momentum=0.1, affine=True, track_running_stats=True)\n",
              "        (activation): ReLU(inplace=True)\n",
              "      )\n",
              "    )\n",
              "  )\n",
              "  (up_tr64): UpTransition(\n",
              "    (up_conv): ConvTranspose3d(128, 128, kernel_size=(2, 2, 2), stride=(2, 2, 2))\n",
              "    (ops): Sequential(\n",
              "      (0): LUConv(\n",
              "        (conv1): Conv3d(192, 64, kernel_size=(3, 3, 3), stride=(1, 1, 1), padding=(1, 1, 1))\n",
              "        (bn1): ContBatchNorm3d(64, eps=1e-05, momentum=0.1, affine=True, track_running_stats=True)\n",
              "        (activation): ReLU(inplace=True)\n",
              "      )\n",
              "      (1): LUConv(\n",
              "        (conv1): Conv3d(64, 64, kernel_size=(3, 3, 3), stride=(1, 1, 1), padding=(1, 1, 1))\n",
              "        (bn1): ContBatchNorm3d(64, eps=1e-05, momentum=0.1, affine=True, track_running_stats=True)\n",
              "        (activation): ReLU(inplace=True)\n",
              "      )\n",
              "    )\n",
              "  )\n",
              "  (out_tr): OutputTransition(\n",
              "    (final_conv): Conv3d(64, 1, kernel_size=(1, 1, 1), stride=(1, 1, 1))\n",
              "    (sigmoid): Sigmoid()\n",
              "  )\n",
              ")"
            ]
          },
          "metadata": {
            "tags": []
          },
          "execution_count": 42
        }
      ]
    },
    {
      "cell_type": "code",
      "metadata": {
        "id": "JKvK5amCDw6Z"
      },
      "source": [
        "loss_history = []\n",
        "loss_history_val = []"
      ],
      "execution_count": null,
      "outputs": []
    },
    {
      "cell_type": "code",
      "metadata": {
        "id": "jMzvAySADzHw"
      },
      "source": [
        "best_loss_val = float('inf')"
      ],
      "execution_count": null,
      "outputs": []
    },
    {
      "cell_type": "markdown",
      "metadata": {
        "id": "AwXsKLU8D29A"
      },
      "source": [
        "Training"
      ]
    },
    {
      "cell_type": "code",
      "metadata": {
        "colab": {
          "base_uri": "https://localhost:8080/"
        },
        "id": "qYdDcoOJD0rx",
        "outputId": "69d450ad-b268-4579-b811-906da4715ee3"
      },
      "source": [
        "print(\"Start training.\")\n",
        "for epoch in range(20): # Originally 50\n",
        "\n",
        "    model.train()\n",
        "    loss_running = []\n",
        "    for _, (x,y) in enumerate(train_dataloader):\n",
        "        x, y = x.float().to(device), y.float().to(device)\n",
        "        \n",
        "        pred = model(x)\n",
        "        loss = criterion(pred, y)\n",
        "        loss_running.append(loss.item())\n",
        "\n",
        "        optimizer.zero_grad()\n",
        "        loss.backward()\n",
        "        optimizer.step()\n",
        "       \n",
        "    loss_history.append(np.mean(loss_running))\n",
        "\n",
        "    model.eval()\n",
        "    with torch.no_grad():\n",
        "        loss_val_running = []\n",
        "        for _, (x_val, y_val) in enumerate(val_dataloader):\n",
        "            x_val, y_val = x_val.to(device), y_val.to(device)\n",
        "            pred_val = model.forward(x_val) #pred_val = model(x_val)\n",
        "            loss_val= criterion(pred_val, y_val)\n",
        "            loss_val_running.append(loss_val.item())\n",
        "    \n",
        "    curr_loss_val = np.mean(loss_val_running)\n",
        "    loss_history_val.append(curr_loss_val)\n",
        "\n",
        "    if curr_loss_val < best_loss_val:\n",
        "        best_loss_val = curr_loss_val\n",
        "        torch.save(model.state_dict(), '/gdrive/My Drive/best_model.pth')\n",
        "\n",
        "    scheduler.step()\n",
        "\n",
        "    print(\"epoch\", epoch, \"train loss\", loss_history[-1], \"val loss\", loss_history_val[-1])"
      ],
      "execution_count": 45,
      "outputs": [
        {
          "output_type": "stream",
          "text": [
            "Start training.\n",
            "epoch 0 train loss 0.8650684086514301 val loss 0.8297942125952089\n",
            "epoch 1 train loss 0.8042519461913187 val loss 0.8359701172872023\n",
            "epoch 2 train loss 0.7841586631341059 val loss 0.8288591442170081\n",
            "epoch 3 train loss 0.7921088397014336 val loss 0.7751693605602562\n",
            "epoch 4 train loss 0.7687317035725859 val loss 0.7657004881214786\n",
            "epoch 5 train loss 0.725134374079157 val loss 0.7323892383606403\n",
            "epoch 6 train loss 0.7137905442323841 val loss 0.7767597568499578\n",
            "epoch 7 train loss 0.7050539759827442 val loss 0.743725174046182\n",
            "epoch 8 train loss 0.7058828740334901 val loss 0.7503906271674416\n",
            "epoch 9 train loss 0.7038230461663887 val loss 0.7351776841398957\n",
            "epoch 10 train loss 0.6713066793856074 val loss 0.686837540044413\n",
            "epoch 11 train loss 0.6610867888712492 val loss 0.6730020762263954\n",
            "epoch 12 train loss 0.6599118056355929 val loss 0.660965035101036\n",
            "epoch 13 train loss 0.6515805326524328 val loss 0.665158298495528\n",
            "epoch 14 train loss 0.6421133083886787 val loss 0.6432130642525562\n",
            "epoch 15 train loss 0.5934362999484187 val loss 0.613105972091873\n",
            "epoch 16 train loss 0.5829410268635046 val loss 0.6121521410229919\n",
            "epoch 17 train loss 0.5714752116408505 val loss 0.5957227929846033\n",
            "epoch 18 train loss 0.5673946479549173 val loss 0.5808365623672287\n",
            "epoch 19 train loss 0.5606716841947837 val loss 0.583096571363412\n"
          ],
          "name": "stdout"
        }
      ]
    },
    {
      "cell_type": "markdown",
      "metadata": {
        "id": "cD3Tc3N6jwp2"
      },
      "source": [
        "Visualization"
      ]
    },
    {
      "cell_type": "code",
      "metadata": {
        "id": "JKEp6bnvMlJi"
      },
      "source": [
        "def plot_mask(mask_3d_array, axx):\n",
        "  mask_cpu = mask_3d_array.cpu().detach().numpy()\n",
        "  reshaped_mask_cpu = np.reshape(mask_cpu,(512, 512))\n",
        "  print(np.max(reshaped_mask_cpu), np.min(reshaped_mask_cpu))\n",
        "  reshaped_mask_cpu_bin = np.round(reshaped_mask_cpu)\n",
        "  axx.imshow(reshaped_mask_cpu_bin)"
      ],
      "execution_count": 46,
      "outputs": []
    },
    {
      "cell_type": "code",
      "metadata": {
        "id": "eAKRBoYYM1IS",
        "colab": {
          "base_uri": "https://localhost:8080/",
          "height": 736
        },
        "outputId": "1a29e83a-00e1-4305-b071-2709c5fe42af"
      },
      "source": [
        "import random\n",
        "import matplotlib.pyplot as plt\n",
        "\n",
        "dataloader = test_dataloader\n",
        "ncol = 4\n",
        "rand_ndx = random.sample(range(0, len(dataloader)), ncol)\n",
        "fig, ax = plt.subplots(nrows=2,  ncols=ncol, figsize=(20, 10))\n",
        "i = 0\n",
        "for n, (x, y) in enumerate(dataloader):\n",
        "  x, y = x.to(device), y.to(device)\n",
        "  if n in rand_ndx:\n",
        "    pred = model.forward(x)\n",
        "    plot_mask(pred[0,0,:,:,:], ax[0][i])\n",
        "    plot_mask(y[0,0,:,:,:], ax[1][i])\n",
        "    i += 1"
      ],
      "execution_count": 47,
      "outputs": [
        {
          "output_type": "stream",
          "text": [
            "0.9805222 6.180607e-07\n",
            "1.0 0.0\n",
            "0.9805222 8.40648e-09\n",
            "1.0 0.0\n",
            "0.9805222 7.839531e-08\n",
            "1.0 0.0\n",
            "0.9805222 3.954095e-08\n",
            "1.0 0.0\n"
          ],
          "name": "stdout"
        },
        {
          "output_type": "display_data",
          "data": {
            "image/png": "[encoded data removed]",
            "text/plain": [
              "<Figure size 1440x720 with 8 Axes>"
            ]
          },
          "metadata": {
            "tags": [],
            "needs_background": "light"
          }
        }
      ]
    }
  ]
}