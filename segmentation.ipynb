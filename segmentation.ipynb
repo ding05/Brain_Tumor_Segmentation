{
  "nbformat": 4,
  "nbformat_minor": 0,
  "metadata": {
    "colab": {
      "name": "3/18 Segmentation Brain Tumor.ipynb",
      "provenance": [],
      "collapsed_sections": []
    },
    "kernelspec": {
      "name": "python3",
      "display_name": "Python 3"
    },
    "accelerator": "GPU"
  },
  "cells": [
    {
      "cell_type": "markdown",
      "metadata": {
        "id": "o3bb881J8eIa"
      },
      "source": [
        "Refer to Pytorch Image Segmentation Tutorial For Beginners, by Seyma Tas, on Medium.\n",
        "\n",
        "Reproduce the experiment; add and slightly modify the code."
      ]
    },
    {
      "cell_type": "code",
      "metadata": {
        "id": "RdfjlOgZvfhl"
      },
      "source": [
        "image_data = []\n",
        "mask_data = []"
      ],
      "execution_count": null,
      "outputs": []
    },
    {
      "cell_type": "code",
      "metadata": {
        "id": "bZv5pc25viS1"
      },
      "source": [
        "filenames = range(1,3065)"
      ],
      "execution_count": null,
      "outputs": []
    },
    {
      "cell_type": "code",
      "metadata": {
        "colab": {
          "base_uri": "https://localhost:8080/"
        },
        "id": "8p_t14-_0DIO",
        "outputId": "1b5aee33-ca91-4289-bf4b-b4d2c59f2a59"
      },
      "source": [
        "from google.colab import drive\n",
        "drive.mount('/gdrive', force_remount=True)"
      ],
      "execution_count": null,
      "outputs": [
        {
          "output_type": "stream",
          "text": [
            "Mounted at /gdrive\n"
          ],
          "name": "stdout"
        }
      ]
    },
    {
      "cell_type": "code",
      "metadata": {
        "id": "xTjYxew20KVm"
      },
      "source": [
        "!cp '/gdrive/My Drive/brainTumorData.zip' 'brainTumorData.zip'\n",
        "!yes None | unzip -q brainTumorData.zip"
      ],
      "execution_count": null,
      "outputs": []
    },
    {
      "cell_type": "code",
      "metadata": {
        "id": "QZcL0VosvkGq"
      },
      "source": [
        "import h5py\n",
        "import numpy as np\n",
        "\n",
        "for name in filenames:\n",
        "  file = h5py.File('/content/brainTumorData/'+str(name)+'.mat', 'r').get('cjdata')\n",
        "  \n",
        "  input = file.get('image')[()]\n",
        "  mask = file.get('tumorMask')[()]\n",
        "  try: # Use \"try\" to ignore the unsuitable images.\n",
        "    input = np.reshape(input,(64,64,64))\n",
        "    input = np.expand_dims(input,axis=0)\n",
        "    image_data.append(input)\n",
        "  except:\n",
        "    pass\n",
        "\n",
        "  try:\n",
        "    mask = np.reshape(mask,(64,64,64))\n",
        "    mask = np.expand_dims(mask,axis=0)\n",
        "    mask_data.append(mask)\n",
        "  except:\n",
        "    pass"
      ],
      "execution_count": null,
      "outputs": []
    },
    {
      "cell_type": "code",
      "metadata": {
        "colab": {
          "base_uri": "https://localhost:8080/"
        },
        "id": "daF8W23__M0V",
        "outputId": "cfd436c5-466d-46cd-ae9f-7dee0d0e657a"
      },
      "source": [
        "print(len(image_data))"
      ],
      "execution_count": null,
      "outputs": [
        {
          "output_type": "stream",
          "text": [
            "3049\n"
          ],
          "name": "stdout"
        }
      ]
    },
    {
      "cell_type": "code",
      "metadata": {
        "id": "fZVAyRG18nfn"
      },
      "source": [
        "from sklearn.model_selection import train_test_split\n",
        "\n",
        "image_train_data, image_test_data, mask_train_data, mask_test_data = train_test_split(image_data, mask_data, test_size = 0.1, random_state=123)\n",
        "image_train_data, image_val_data, mask_train_data, mask_val_data = train_test_split(image_train_data,mask_train_data, test_size = 0.111, random_state=123)"
      ],
      "execution_count": null,
      "outputs": []
    },
    {
      "cell_type": "code",
      "metadata": {
        "id": "r3vKnokcBF9Q"
      },
      "source": [
        "import torch\n",
        "import torch.nn as nn\n",
        "import torch.nn.functional as F"
      ],
      "execution_count": null,
      "outputs": []
    },
    {
      "cell_type": "code",
      "metadata": {
        "id": "T12ZV3PHA51S"
      },
      "source": [
        "image_train_data = torch.Tensor(image_train_data) \n",
        "mask_train_data = torch.Tensor(mask_train_data)\n",
        "\n",
        "image_val_data = torch.Tensor(image_val_data) \n",
        "mask_val_data = torch.Tensor(mask_val_data)\n",
        "\n",
        "image_test_data = torch.Tensor(image_test_data) \n",
        "mask_test_data = torch.Tensor(mask_test_data)"
      ],
      "execution_count": null,
      "outputs": []
    },
    {
      "cell_type": "code",
      "metadata": {
        "id": "wL3SjPdMBLDI"
      },
      "source": [
        "train_dataset = torch.utils.data.TensorDataset(image_train_data, mask_train_data) # Change it!\n",
        "\n",
        "val_dataset = torch.utils.data.TensorDataset(image_val_data, mask_val_data)\n",
        "\n",
        "test_dataset = torch.utils.data.TensorDataset(image_test_data, mask_test_data)"
      ],
      "execution_count": null,
      "outputs": []
    },
    {
      "cell_type": "code",
      "metadata": {
        "id": "IUiIoUh8BNSB"
      },
      "source": [
        "train_dataloader = torch.utils.data.DataLoader(train_dataset, batch_size = 4, num_workers = 2, shuffle = True)\n",
        "\n",
        "val_dataloader = torch.utils.data.DataLoader(val_dataset, batch_size = 4, num_workers = 2, shuffle = True)\n",
        "\n",
        "test_dataloader = torch.utils.data.DataLoader(test_dataset, batch_size = 4, num_workers = 2, shuffle = True)"
      ],
      "execution_count": null,
      "outputs": []
    },
    {
      "cell_type": "markdown",
      "metadata": {
        "id": "ek2k7VaVDLMW"
      },
      "source": [
        "Use U-Net.\n",
        "\n",
        "Use unet3d.py from Models Genesis, by Zongwei Zhou, on GitHub."
      ]
    },
    {
      "cell_type": "code",
      "metadata": {
        "id": "gsOBB6e1BWlw"
      },
      "source": [
        "class ContBatchNorm3d(nn.modules.batchnorm._BatchNorm):\n",
        "    def _check_input_dim(self, input):\n",
        "\n",
        "        if input.dim() != 5:\n",
        "            raise ValueError('expected 5D input (got {}D input)'.format(input.dim()))\n",
        "\n",
        "    def forward(self, input):\n",
        "        self._check_input_dim(input)\n",
        "        return F.batch_norm(\n",
        "            input, self.running_mean, self.running_var, self.weight, self.bias,\n",
        "            True, self.momentum, self.eps)\n",
        "\n",
        "class LUConv(nn.Module):\n",
        "    def __init__(self, in_chan, out_chan, act):\n",
        "        super(LUConv, self).__init__()\n",
        "        self.conv1 = nn.Conv3d(in_chan, out_chan, kernel_size=3, padding=1)\n",
        "        self.bn1 = ContBatchNorm3d(out_chan)\n",
        "\n",
        "        if act == 'relu':\n",
        "            self.activation = nn.ReLU(out_chan)\n",
        "        elif act == 'prelu':\n",
        "            self.activation = nn.PReLU(out_chan)\n",
        "        elif act == 'elu':\n",
        "            self.activation = nn.ELU(inplace=True)\n",
        "        else:\n",
        "            raise\n",
        "\n",
        "    def forward(self, x):\n",
        "        out = self.activation(self.bn1(self.conv1(x)))\n",
        "        return out\n",
        "\n",
        "\n",
        "def _make_nConv(in_channel, depth, act, double_chnnel=False):\n",
        "    if double_chnnel:\n",
        "        layer1 = LUConv(in_channel, 32 * (2 ** (depth+1)),act)\n",
        "        layer2 = LUConv(32 * (2 ** (depth+1)), 32 * (2 ** (depth+1)),act)\n",
        "    else:\n",
        "        layer1 = LUConv(in_channel, 32*(2**depth),act)\n",
        "        layer2 = LUConv(32*(2**depth), 32*(2**depth)*2,act)\n",
        "\n",
        "    return nn.Sequential(layer1,layer2)\n",
        "\n",
        "class DownTransition(nn.Module):\n",
        "    def __init__(self, in_channel,depth, act):\n",
        "        super(DownTransition, self).__init__()\n",
        "        self.ops = _make_nConv(in_channel, depth,act)\n",
        "        self.maxpool = nn.MaxPool3d(2)\n",
        "        self.current_depth = depth\n",
        "\n",
        "    def forward(self, x):\n",
        "        if self.current_depth == 3:\n",
        "            out = self.ops(x)\n",
        "            out_before_pool = out\n",
        "        else:\n",
        "            out_before_pool = self.ops(x)\n",
        "            out = self.maxpool(out_before_pool)\n",
        "        return out, out_before_pool\n",
        "\n",
        "class UpTransition(nn.Module):\n",
        "    def __init__(self, inChans, outChans, depth,act):\n",
        "        super(UpTransition, self).__init__()\n",
        "        self.depth = depth\n",
        "        self.up_conv = nn.ConvTranspose3d(inChans, outChans, kernel_size=2, stride=2)\n",
        "        self.ops = _make_nConv(inChans+ outChans//2,depth, act, double_chnnel=True)\n",
        "\n",
        "    def forward(self, x, skip_x):\n",
        "        out_up_conv = self.up_conv(x)\n",
        "        concat = torch.cat((out_up_conv,skip_x),1)\n",
        "        out = self.ops(concat)\n",
        "        return out\n",
        "\n",
        "class OutputTransition(nn.Module):\n",
        "    def __init__(self, inChans, n_labels):\n",
        "\n",
        "        super(OutputTransition, self).__init__()\n",
        "        self.final_conv = nn.Conv3d(inChans, n_labels, kernel_size=1)\n",
        "        self.sigmoid = nn.Sigmoid()\n",
        "\n",
        "    def forward(self, x):\n",
        "        out = self.sigmoid(self.final_conv(x))\n",
        "        return out\n",
        "\n",
        "class UNet3D(nn.Module):\n",
        "    # the number of convolutions in each layer corresponds\n",
        "    # to what is in the actual prototxt, not the intent\n",
        "    def __init__(self, n_class=1, act='relu'):\n",
        "        super(UNet3D, self).__init__()\n",
        "\n",
        "        self.down_tr64 = DownTransition(1,0,act)\n",
        "        self.down_tr128 = DownTransition(64,1,act)\n",
        "        self.down_tr256 = DownTransition(128,2,act)\n",
        "        self.down_tr512 = DownTransition(256,3,act)\n",
        "\n",
        "        self.up_tr256 = UpTransition(512, 512,2,act)\n",
        "        self.up_tr128 = UpTransition(256,256, 1,act)\n",
        "        self.up_tr64 = UpTransition(128,128,0,act)\n",
        "        self.out_tr = OutputTransition(64, n_class)\n",
        "\n",
        "    def forward(self, x):\n",
        "        self.out64, self.skip_out64 = self.down_tr64(x)\n",
        "        self.out128,self.skip_out128 = self.down_tr128(self.out64)\n",
        "        self.out256,self.skip_out256 = self.down_tr256(self.out128)\n",
        "        self.out512,self.skip_out512 = self.down_tr512(self.out256)\n",
        "\n",
        "        self.out_up_256 = self.up_tr256(self.out512,self.skip_out256)\n",
        "        self.out_up_128 = self.up_tr128(self.out_up_256, self.skip_out128)\n",
        "        self.out_up_64 = self.up_tr64(self.out_up_128, self.skip_out64)\n",
        "        self.out = self.out_tr(self.out_up_64)\n",
        "\n",
        "        return self.out"
      ],
      "execution_count": null,
      "outputs": []
    },
    {
      "cell_type": "code",
      "metadata": {
        "id": "Mn7ICeGqC6KX"
      },
      "source": [
        "model = UNet3D()"
      ],
      "execution_count": null,
      "outputs": []
    },
    {
      "cell_type": "code",
      "metadata": {
        "id": "BhEAfddMC95u"
      },
      "source": [
        "weight_dir = '/gdrive/My Drive/Genesis_Chest_CT.pt'"
      ],
      "execution_count": null,
      "outputs": []
    },
    {
      "cell_type": "code",
      "metadata": {
        "id": "En4cXg8MDAdu"
      },
      "source": [
        "checkpoint = torch.load(weight_dir,map_location=torch.device('cpu'))\n",
        "\n",
        "state_dict = checkpoint['state_dict']"
      ],
      "execution_count": null,
      "outputs": []
    },
    {
      "cell_type": "code",
      "metadata": {
        "id": "CHtffDXNDB6F"
      },
      "source": [
        "unParalled_state_dict = {}"
      ],
      "execution_count": null,
      "outputs": []
    },
    {
      "cell_type": "code",
      "metadata": {
        "id": "NlSDmzJ6DDQu"
      },
      "source": [
        "for key in state_dict.keys():\n",
        "  unParalled_state_dict[key.replace(\"module.\", \"\")] = state_dict[key]"
      ],
      "execution_count": null,
      "outputs": []
    },
    {
      "cell_type": "code",
      "metadata": {
        "colab": {
          "base_uri": "https://localhost:8080/"
        },
        "id": "jE155y1NDFlu",
        "outputId": "6e69ed43-e635-481e-ff80-21278fb0e13b"
      },
      "source": [
        "model.load_state_dict(unParalled_state_dict)"
      ],
      "execution_count": null,
      "outputs": [
        {
          "output_type": "execute_result",
          "data": {
            "text/plain": [
              "<All keys matched successfully>"
            ]
          },
          "metadata": {
            "tags": []
          },
          "execution_count": 18
        }
      ]
    },
    {
      "cell_type": "markdown",
      "metadata": {
        "id": "qC7GDmbADITW"
      },
      "source": [
        "Define the loss functions.\n",
        "\n",
        "Refer to How To Evaluate Image Segmentation Models?, by Seyma Tas, on Towards Data Science."
      ]
    },
    {
      "cell_type": "code",
      "metadata": {
        "id": "Pkllmn9aDGZI"
      },
      "source": [
        "def dice_loss(inputs, target):\n",
        "    num = target.size(0)\n",
        "    inputs = inputs.reshape(num, -1)\n",
        "    target = target.reshape(num, -1)\n",
        "    smooth = 1.0\n",
        "    intersection = (inputs * target)\n",
        "    dice = (2. * intersection.sum(1) + smooth) / (inputs.sum(1) + target.sum(1) + smooth)\n",
        "    dice = 1 - dice.sum() / num\n",
        "    return dice\n",
        "\n",
        "def bce_dice_loss(inputs, target):\n",
        "    dicescore = dice_loss(inputs, target)\n",
        "    bcescore = nn.BCELoss()\n",
        "    bceloss = bcescore(inputs, target)\n",
        "    return bceloss + dicescore"
      ],
      "execution_count": null,
      "outputs": []
    },
    {
      "cell_type": "code",
      "metadata": {
        "id": "hMxkSf6MDaAu"
      },
      "source": [
        "criterion = bce_dice_loss"
      ],
      "execution_count": null,
      "outputs": []
    },
    {
      "cell_type": "code",
      "metadata": {
        "id": "M1PxbrovDcrZ"
      },
      "source": [
        "from torch.optim import AdamW\n",
        "\n",
        "optimizer = AdamW(model.parameters(), 0.1)"
      ],
      "execution_count": null,
      "outputs": []
    },
    {
      "cell_type": "code",
      "metadata": {
        "id": "tMKa54M5Dd2x"
      },
      "source": [
        "from torch.optim import lr_scheduler \n",
        "\n",
        "scheduler = lr_scheduler.StepLR(optimizer, step_size=5, gamma=0.5)"
      ],
      "execution_count": null,
      "outputs": []
    },
    {
      "cell_type": "markdown",
      "metadata": {
        "id": "Gyj3ekJGE6yK"
      },
      "source": [
        "Install CUDA."
      ]
    },
    {
      "cell_type": "code",
      "metadata": {
        "colab": {
          "base_uri": "https://localhost:8080/"
        },
        "id": "COt746XxE4Jq",
        "outputId": "705fc24f-145b-46ff-f3e3-b46b002971ad"
      },
      "source": [
        "!sudo apt-get -y install aptitude\n",
        "!sudo aptitude -y install cuda"
      ],
      "execution_count": null,
      "outputs": [
        {
          "output_type": "stream",
          "text": [
            "Reading package lists... Done\n",
            "Building dependency tree       \n",
            "Reading state information... Done\n",
            "The following additional packages will be installed:\n",
            "  aptitude-common libcgi-fast-perl libcgi-pm-perl libclass-accessor-perl\n",
            "  libcwidget3v5 libencode-locale-perl libfcgi-perl libhtml-parser-perl\n",
            "  libhtml-tagset-perl libhttp-date-perl libhttp-message-perl libio-html-perl\n",
            "  libio-string-perl liblwp-mediatypes-perl libparse-debianchangelog-perl\n",
            "  libsigc++-2.0-0v5 libsub-name-perl libtimedate-perl liburi-perl libxapian30\n",
            "Suggested packages:\n",
            "  aptitude-doc-en | aptitude-doc apt-xapian-index debtags tasksel\n",
            "  libcwidget-dev libdata-dump-perl libhtml-template-perl libxml-simple-perl\n",
            "  libwww-perl xapian-tools\n",
            "The following NEW packages will be installed:\n",
            "  aptitude aptitude-common libcgi-fast-perl libcgi-pm-perl\n",
            "  libclass-accessor-perl libcwidget3v5 libencode-locale-perl libfcgi-perl\n",
            "  libhtml-parser-perl libhtml-tagset-perl libhttp-date-perl\n",
            "  libhttp-message-perl libio-html-perl libio-string-perl\n",
            "  liblwp-mediatypes-perl libparse-debianchangelog-perl libsigc++-2.0-0v5\n",
            "  libsub-name-perl libtimedate-perl liburi-perl libxapian30\n",
            "0 upgraded, 21 newly installed, 0 to remove and 29 not upgraded.\n",
            "Need to get 3,877 kB of archives.\n",
            "After this operation, 15.6 MB of additional disk space will be used.\n",
            "Get:1 http://archive.ubuntu.com/ubuntu bionic/main amd64 aptitude-common all 0.8.10-6ubuntu1 [1,014 kB]\n",
            "Get:2 http://archive.ubuntu.com/ubuntu bionic/main amd64 libsigc++-2.0-0v5 amd64 2.10.0-2 [10.9 kB]\n",
            "Get:3 http://archive.ubuntu.com/ubuntu bionic/main amd64 libcwidget3v5 amd64 0.5.17-7 [286 kB]\n",
            "Get:4 http://archive.ubuntu.com/ubuntu bionic-updates/main amd64 libxapian30 amd64 1.4.5-1ubuntu0.1 [631 kB]\n",
            "Get:5 http://archive.ubuntu.com/ubuntu bionic/main amd64 aptitude amd64 0.8.10-6ubuntu1 [1,269 kB]\n",
            "Get:6 http://archive.ubuntu.com/ubuntu bionic/main amd64 libhtml-tagset-perl all 3.20-3 [12.1 kB]\n",
            "Get:7 http://archive.ubuntu.com/ubuntu bionic/main amd64 liburi-perl all 1.73-1 [77.2 kB]\n",
            "Get:8 http://archive.ubuntu.com/ubuntu bionic/main amd64 libhtml-parser-perl amd64 3.72-3build1 [85.9 kB]\n",
            "Get:9 http://archive.ubuntu.com/ubuntu bionic/main amd64 libcgi-pm-perl all 4.38-1 [185 kB]\n",
            "Get:10 http://archive.ubuntu.com/ubuntu bionic/main amd64 libfcgi-perl amd64 0.78-2build1 [32.8 kB]\n",
            "Get:11 http://archive.ubuntu.com/ubuntu bionic/main amd64 libcgi-fast-perl all 1:2.13-1 [9,940 B]\n",
            "Get:12 http://archive.ubuntu.com/ubuntu bionic/main amd64 libsub-name-perl amd64 0.21-1build1 [11.6 kB]\n",
            "Get:13 http://archive.ubuntu.com/ubuntu bionic/main amd64 libclass-accessor-perl all 0.51-1 [21.2 kB]\n",
            "Get:14 http://archive.ubuntu.com/ubuntu bionic/main amd64 libencode-locale-perl all 1.05-1 [12.3 kB]\n",
            "Get:15 http://archive.ubuntu.com/ubuntu bionic/main amd64 libtimedate-perl all 2.3000-2 [37.5 kB]\n",
            "Get:16 http://archive.ubuntu.com/ubuntu bionic/main amd64 libhttp-date-perl all 6.02-1 [10.4 kB]\n",
            "Get:17 http://archive.ubuntu.com/ubuntu bionic/main amd64 libio-html-perl all 1.001-1 [14.9 kB]\n",
            "Get:18 http://archive.ubuntu.com/ubuntu bionic/main amd64 liblwp-mediatypes-perl all 6.02-1 [21.7 kB]\n",
            "Get:19 http://archive.ubuntu.com/ubuntu bionic/main amd64 libhttp-message-perl all 6.14-1 [72.1 kB]\n",
            "Get:20 http://archive.ubuntu.com/ubuntu bionic/main amd64 libio-string-perl all 1.08-3 [11.1 kB]\n",
            "Get:21 http://archive.ubuntu.com/ubuntu bionic/main amd64 libparse-debianchangelog-perl all 1.2.0-12 [49.5 kB]\n",
            "Fetched 3,877 kB in 1s (3,451 kB/s)\n",
            "debconf: unable to initialize frontend: Dialog\n",
            "debconf: (No usable dialog-like program is installed, so the dialog based frontend cannot be used. at /usr/share/perl5/Debconf/FrontEnd/Dialog.pm line 76, <> line 21.)\n",
            "debconf: falling back to frontend: Readline\n",
            "debconf: unable to initialize frontend: Readline\n",
            "debconf: (This frontend requires a controlling tty.)\n",
            "debconf: falling back to frontend: Teletype\n",
            "dpkg-preconfigure: unable to re-open stdin: \n",
            "Selecting previously unselected package aptitude-common.\n",
            "(Reading database ... 160975 files and directories currently installed.)\n",
            "Preparing to unpack .../00-aptitude-common_0.8.10-6ubuntu1_all.deb ...\n",
            "Unpacking aptitude-common (0.8.10-6ubuntu1) ...\n",
            "Selecting previously unselected package libsigc++-2.0-0v5:amd64.\n",
            "Preparing to unpack .../01-libsigc++-2.0-0v5_2.10.0-2_amd64.deb ...\n",
            "Unpacking libsigc++-2.0-0v5:amd64 (2.10.0-2) ...\n",
            "Selecting previously unselected package libcwidget3v5:amd64.\n",
            "Preparing to unpack .../02-libcwidget3v5_0.5.17-7_amd64.deb ...\n",
            "Unpacking libcwidget3v5:amd64 (0.5.17-7) ...\n",
            "Selecting previously unselected package libxapian30:amd64.\n",
            "Preparing to unpack .../03-libxapian30_1.4.5-1ubuntu0.1_amd64.deb ...\n",
            "Unpacking libxapian30:amd64 (1.4.5-1ubuntu0.1) ...\n",
            "Selecting previously unselected package aptitude.\n",
            "Preparing to unpack .../04-aptitude_0.8.10-6ubuntu1_amd64.deb ...\n",
            "Unpacking aptitude (0.8.10-6ubuntu1) ...\n",
            "Selecting previously unselected package libhtml-tagset-perl.\n",
            "Preparing to unpack .../05-libhtml-tagset-perl_3.20-3_all.deb ...\n",
            "Unpacking libhtml-tagset-perl (3.20-3) ...\n",
            "Selecting previously unselected package liburi-perl.\n",
            "Preparing to unpack .../06-liburi-perl_1.73-1_all.deb ...\n",
            "Unpacking liburi-perl (1.73-1) ...\n",
            "Selecting previously unselected package libhtml-parser-perl.\n",
            "Preparing to unpack .../07-libhtml-parser-perl_3.72-3build1_amd64.deb ...\n",
            "Unpacking libhtml-parser-perl (3.72-3build1) ...\n",
            "Selecting previously unselected package libcgi-pm-perl.\n",
            "Preparing to unpack .../08-libcgi-pm-perl_4.38-1_all.deb ...\n",
            "Unpacking libcgi-pm-perl (4.38-1) ...\n",
            "Selecting previously unselected package libfcgi-perl.\n",
            "Preparing to unpack .../09-libfcgi-perl_0.78-2build1_amd64.deb ...\n",
            "Unpacking libfcgi-perl (0.78-2build1) ...\n",
            "Selecting previously unselected package libcgi-fast-perl.\n",
            "Preparing to unpack .../10-libcgi-fast-perl_1%3a2.13-1_all.deb ...\n",
            "Unpacking libcgi-fast-perl (1:2.13-1) ...\n",
            "Selecting previously unselected package libsub-name-perl.\n",
            "Preparing to unpack .../11-libsub-name-perl_0.21-1build1_amd64.deb ...\n",
            "Unpacking libsub-name-perl (0.21-1build1) ...\n",
            "Selecting previously unselected package libclass-accessor-perl.\n",
            "Preparing to unpack .../12-libclass-accessor-perl_0.51-1_all.deb ...\n",
            "Unpacking libclass-accessor-perl (0.51-1) ...\n",
            "Selecting previously unselected package libencode-locale-perl.\n",
            "Preparing to unpack .../13-libencode-locale-perl_1.05-1_all.deb ...\n",
            "Unpacking libencode-locale-perl (1.05-1) ...\n",
            "Selecting previously unselected package libtimedate-perl.\n",
            "Preparing to unpack .../14-libtimedate-perl_2.3000-2_all.deb ...\n",
            "Unpacking libtimedate-perl (2.3000-2) ...\n",
            "Selecting previously unselected package libhttp-date-perl.\n",
            "Preparing to unpack .../15-libhttp-date-perl_6.02-1_all.deb ...\n",
            "Unpacking libhttp-date-perl (6.02-1) ...\n",
            "Selecting previously unselected package libio-html-perl.\n",
            "Preparing to unpack .../16-libio-html-perl_1.001-1_all.deb ...\n",
            "Unpacking libio-html-perl (1.001-1) ...\n",
            "Selecting previously unselected package liblwp-mediatypes-perl.\n",
            "Preparing to unpack .../17-liblwp-mediatypes-perl_6.02-1_all.deb ...\n",
            "Unpacking liblwp-mediatypes-perl (6.02-1) ...\n",
            "Selecting previously unselected package libhttp-message-perl.\n",
            "Preparing to unpack .../18-libhttp-message-perl_6.14-1_all.deb ...\n",
            "Unpacking libhttp-message-perl (6.14-1) ...\n",
            "Selecting previously unselected package libio-string-perl.\n",
            "Preparing to unpack .../19-libio-string-perl_1.08-3_all.deb ...\n",
            "Unpacking libio-string-perl (1.08-3) ...\n",
            "Selecting previously unselected package libparse-debianchangelog-perl.\n",
            "Preparing to unpack .../20-libparse-debianchangelog-perl_1.2.0-12_all.deb ...\n",
            "Unpacking libparse-debianchangelog-perl (1.2.0-12) ...\n",
            "Setting up libhtml-tagset-perl (3.20-3) ...\n",
            "Setting up libxapian30:amd64 (1.4.5-1ubuntu0.1) ...\n",
            "Setting up libencode-locale-perl (1.05-1) ...\n",
            "Setting up libtimedate-perl (2.3000-2) ...\n",
            "Setting up libio-html-perl (1.001-1) ...\n",
            "Setting up aptitude-common (0.8.10-6ubuntu1) ...\n",
            "Setting up liblwp-mediatypes-perl (6.02-1) ...\n",
            "Setting up liburi-perl (1.73-1) ...\n",
            "Setting up libhtml-parser-perl (3.72-3build1) ...\n",
            "Setting up libcgi-pm-perl (4.38-1) ...\n",
            "Setting up libio-string-perl (1.08-3) ...\n",
            "Setting up libsub-name-perl (0.21-1build1) ...\n",
            "Setting up libfcgi-perl (0.78-2build1) ...\n",
            "Setting up libsigc++-2.0-0v5:amd64 (2.10.0-2) ...\n",
            "Setting up libclass-accessor-perl (0.51-1) ...\n",
            "Setting up libhttp-date-perl (6.02-1) ...\n",
            "Setting up libcgi-fast-perl (1:2.13-1) ...\n",
            "Setting up libparse-debianchangelog-perl (1.2.0-12) ...\n",
            "Setting up libhttp-message-perl (6.14-1) ...\n",
            "Setting up libcwidget3v5:amd64 (0.5.17-7) ...\n",
            "Setting up aptitude (0.8.10-6ubuntu1) ...\n",
            "update-alternatives: using /usr/bin/aptitude-curses to provide /usr/bin/aptitude (aptitude) in auto mode\n",
            "Processing triggers for man-db (2.8.3-2ubuntu0.1) ...\n",
            "Processing triggers for libc-bin (2.27-3ubuntu1.2) ...\n",
            "/sbin/ldconfig.real: /usr/local/lib/python3.7/dist-packages/ideep4py/lib/libmkldnn.so.0 is not a symbolic link\n",
            "\n",
            "The following NEW packages will be installed:\n",
            "  cuda cuda-11-2{a} cuda-command-line-tools-11-2{a} cuda-compiler-11-2{a} cuda-cudart-11-2{a} cuda-cudart-dev-11-2{a} cuda-cuobjdump-11-2{a} cuda-cupti-11-2{a} cuda-cupti-dev-11-2{a} cuda-cuxxfilt-11-2{a} cuda-demo-suite-11-2{a} cuda-documentation-11-2{a} cuda-driver-dev-11-2{a} cuda-gdb-11-2{a} cuda-libraries-11-2{a} cuda-libraries-dev-11-2{a} cuda-memcheck-11-2{a} cuda-nsight-11-2{a} cuda-nsight-compute-11-2{a} cuda-nsight-systems-11-2{a} cuda-nvcc-11-2{a} cuda-nvdisasm-11-2{a} cuda-nvml-dev-11-2{a} cuda-nvprof-11-2{a} cuda-nvprune-11-2{a} cuda-nvrtc-11-2{a} cuda-nvrtc-dev-11-2{a} cuda-nvtx-11-2{a} cuda-nvvp-11-2{a} cuda-runtime-11-2{a} cuda-samples-11-2{a} cuda-sanitizer-11-2{a} cuda-toolkit-11-2{a} cuda-tools-11-2{a} cuda-visual-tools-11-2{a} libcublas-11-2{a} libcublas-dev-11-2{a} libcufft-11-2{a} libcufft-dev-11-2{a} libcurand-11-2{a} libcurand-dev-11-2{a} libcusolver-11-2{a} libcusolver-dev-11-2{a} libcusparse-11-2{a} libcusparse-dev-11-2{a} libnpp-11-2{a} libnpp-dev-11-2{a} libnvjpeg-11-2{a} libnvjpeg-dev-11-2{a} \n",
            "0 packages upgraded, 49 newly installed, 0 to remove and 29 not upgraded.\n",
            "Need to get 1,608 MB of archives. After unpacking 4,051 MB will be used.\n",
            "Get: 1 https://developer.download.nvidia.com/compute/cuda/repos/ubuntu1804/x86_64  cuda-cudart-11-2 11.2.146-1 [141 kB]\n",
            "Get: 2 https://developer.download.nvidia.com/compute/cuda/repos/ubuntu1804/x86_64  cuda-nvrtc-11-2 11.2.142-1 [25.6 MB]\n",
            "Get: 3 https://developer.download.nvidia.com/compute/cuda/repos/ubuntu1804/x86_64  libcublas-11-2 11.4.1.1026-1 [134 MB]\n",
            "Get: 4 https://developer.download.nvidia.com/compute/cuda/repos/ubuntu1804/x86_64  libcufft-11-2 10.4.0.135-1 [107 MB]\n",
            "Get: 5 https://developer.download.nvidia.com/compute/cuda/repos/ubuntu1804/x86_64  libcurand-11-2 10.2.3.135-1 [39.9 MB]\n",
            "Get: 6 https://developer.download.nvidia.com/compute/cuda/repos/ubuntu1804/x86_64  libcusolver-11-2 11.1.0.135-1 [153 MB]\n",
            "Get: 7 https://developer.download.nvidia.com/compute/cuda/repos/ubuntu1804/x86_64  libcusparse-11-2 11.4.0.135-1 [96.1 MB]\n",
            "Get: 8 https://developer.download.nvidia.com/compute/cuda/repos/ubuntu1804/x86_64  libnpp-11-2 11.3.2.139-1 [70.8 MB]\n",
            "Get: 9 https://developer.download.nvidia.com/compute/cuda/repos/ubuntu1804/x86_64  libnvjpeg-11-2 11.4.0.135-1 [1,498 kB]\n",
            "Get: 10 https://developer.download.nvidia.com/compute/cuda/repos/ubuntu1804/x86_64  cuda-libraries-11-2 11.2.1-1 [2,502 B]\n",
            "Get: 11 https://developer.download.nvidia.com/compute/cuda/repos/ubuntu1804/x86_64  cuda-runtime-11-2 11.2.1-1 [2,424 B]\n",
            "Get: 12 https://developer.download.nvidia.com/compute/cuda/repos/ubuntu1804/x86_64  cuda-cuobjdump-11-2 11.2.135-1 [111 kB]\n",
            "Get: 13 https://developer.download.nvidia.com/compute/cuda/repos/ubuntu1804/x86_64  cuda-cuxxfilt-11-2 11.2.135-1 [44.2 kB]\n",
            "Get: 14 https://developer.download.nvidia.com/compute/cuda/repos/ubuntu1804/x86_64  cuda-driver-dev-11-2 11.2.146-1 [25.9 kB]\n",
            "Get: 15 https://developer.download.nvidia.com/compute/cuda/repos/ubuntu1804/x86_64  cuda-cudart-dev-11-2 11.2.146-1 [1,647 kB]\n",
            "Get: 16 https://developer.download.nvidia.com/compute/cuda/repos/ubuntu1804/x86_64  cuda-nvcc-11-2 11.2.142-1 [45.9 MB]\n",
            "Get: 17 https://developer.download.nvidia.com/compute/cuda/repos/ubuntu1804/x86_64  cuda-nvprune-11-2 11.2.135-1 [54.6 kB]\n",
            "Get: 18 https://developer.download.nvidia.com/compute/cuda/repos/ubuntu1804/x86_64  cuda-compiler-11-2 11.2.1-1 [2,428 B]\n",
            "Get: 19 https://developer.download.nvidia.com/compute/cuda/repos/ubuntu1804/x86_64  cuda-nvrtc-dev-11-2 11.2.142-1 [25.6 MB]\n",
            "Get: 20 https://developer.download.nvidia.com/compute/cuda/repos/ubuntu1804/x86_64  libcublas-dev-11-2 11.4.1.1026-1 [142 MB]\n",
            "Get: 21 https://developer.download.nvidia.com/compute/cuda/repos/ubuntu1804/x86_64  libcufft-dev-11-2 10.4.0.135-1 [179 MB]\n",
            "Get: 22 https://developer.download.nvidia.com/compute/cuda/repos/ubuntu1804/x86_64  libcurand-dev-11-2 10.2.3.135-1 [40.3 MB]\n",
            "Get: 23 https://developer.download.nvidia.com/compute/cuda/repos/ubuntu1804/x86_64  libcusolver-dev-11-2 11.1.0.135-1 [20.5 MB]\n",
            "Get: 24 https://developer.download.nvidia.com/compute/cuda/repos/ubuntu1804/x86_64  libcusparse-dev-11-2 11.4.0.135-1 [96.6 MB]\n",
            "Get: 25 https://developer.download.nvidia.com/compute/cuda/repos/ubuntu1804/x86_64  libnpp-dev-11-2 11.3.2.139-1 [71.3 MB]\n",
            "Get: 26 https://developer.download.nvidia.com/compute/cuda/repos/ubuntu1804/x86_64  libnvjpeg-dev-11-2 11.4.0.135-1 [1,420 kB]\n",
            "Get: 27 https://developer.download.nvidia.com/compute/cuda/repos/ubuntu1804/x86_64  cuda-libraries-dev-11-2 11.2.1-1 [2,518 B]\n",
            "Get: 28 https://developer.download.nvidia.com/compute/cuda/repos/ubuntu1804/x86_64  cuda-cupti-11-2 11.2.135-1 [11.3 MB]\n",
            "Get: 29 https://developer.download.nvidia.com/compute/cuda/repos/ubuntu1804/x86_64  cuda-cupti-dev-11-2 11.2.135-1 [2,313 kB]\n",
            "Get: 30 https://developer.download.nvidia.com/compute/cuda/repos/ubuntu1804/x86_64  cuda-nvdisasm-11-2 11.2.135-1 [32.9 MB]\n",
            "Get: 31 https://developer.download.nvidia.com/compute/cuda/repos/ubuntu1804/x86_64  cuda-gdb-11-2 11.2.135-1 [3,622 kB]\n",
            "Get: 32 https://developer.download.nvidia.com/compute/cuda/repos/ubuntu1804/x86_64  cuda-memcheck-11-2 11.2.135-1 [145 kB]\n",
            "Get: 33 https://developer.download.nvidia.com/compute/cuda/repos/ubuntu1804/x86_64  cuda-nvprof-11-2 11.2.135-1 [1,915 kB]\n",
            "Get: 34 https://developer.download.nvidia.com/compute/cuda/repos/ubuntu1804/x86_64  cuda-nvtx-11-2 11.2.67-1 [50.9 kB]\n",
            "Get: 35 https://developer.download.nvidia.com/compute/cuda/repos/ubuntu1804/x86_64  cuda-sanitizer-11-2 11.2.135-1 [7,642 kB]\n",
            "Get: 36 https://developer.download.nvidia.com/compute/cuda/repos/ubuntu1804/x86_64  cuda-command-line-tools-11-2 11.2.1-1 [2,470 B]\n",
            "Get: 37 https://developer.download.nvidia.com/compute/cuda/repos/ubuntu1804/x86_64  cuda-nsight-compute-11-2 11.2.1-1 [3,700 B]\n",
            "Get: 38 https://developer.download.nvidia.com/compute/cuda/repos/ubuntu1804/x86_64  cuda-nsight-systems-11-2 11.2.1-1 [3,306 B]\n",
            "Get: 39 https://developer.download.nvidia.com/compute/cuda/repos/ubuntu1804/x86_64  cuda-nsight-11-2 11.2.135-1 [119 MB]\n",
            "Get: 40 https://developer.download.nvidia.com/compute/cuda/repos/ubuntu1804/x86_64  cuda-nvml-dev-11-2 11.2.67-1 [73.5 kB]\n",
            "Get: 41 https://developer.download.nvidia.com/compute/cuda/repos/ubuntu1804/x86_64  cuda-nvvp-11-2 11.2.135-1 [115 MB]\n",
            "Get: 42 https://developer.download.nvidia.com/compute/cuda/repos/ubuntu1804/x86_64  cuda-visual-tools-11-2 11.2.1-1 [2,948 B]\n",
            "Get: 43 https://developer.download.nvidia.com/compute/cuda/repos/ubuntu1804/x86_64  cuda-tools-11-2 11.2.1-1 [2,380 B]\n",
            "Get: 44 https://developer.download.nvidia.com/compute/cuda/repos/ubuntu1804/x86_64  cuda-samples-11-2 11.2.135-1 [57.0 MB]\n",
            "Get: 45 https://developer.download.nvidia.com/compute/cuda/repos/ubuntu1804/x86_64  cuda-documentation-11-2 11.2.146-1 [48.8 kB]\n",
            "Get: 46 https://developer.download.nvidia.com/compute/cuda/repos/ubuntu1804/x86_64  cuda-toolkit-11-2 11.2.1-1 [3,288 B]\n",
            "Get: 47 https://developer.download.nvidia.com/compute/cuda/repos/ubuntu1804/x86_64  cuda-demo-suite-11-2 11.2.67-1 [3,928 kB]\n",
            "Get: 48 https://developer.download.nvidia.com/compute/cuda/repos/ubuntu1804/x86_64  cuda-11-2 11.2.1-1 [2,448 B]\n",
            "Get: 49 https://developer.download.nvidia.com/compute/cuda/repos/ubuntu1804/x86_64  cuda 11.2.1-1 [2,394 B]\n",
            "Fetched 1,608 MB in 43s (37.8 MB/s)\n",
            "debconf: unable to initialize frontend: Dialog\n",
            "debconf: (No usable dialog-like program is installed, so the dialog based frontend cannot be used. at /usr/share/perl5/Debconf/FrontEnd/Dialog.pm line 76, <> line 49.)\n",
            "debconf: falling back to frontend: Readline\n",
            "debconf: unable to initialize frontend: Readline\n",
            "debconf: (This frontend requires a controlling tty.)\n",
            "debconf: falling back to frontend: Teletype\n",
            "dpkg-preconfigure: unable to re-open stdin: \n",
            "Selecting previously unselected package cuda-cudart-11-2.\n",
            "(Reading database ... 161434 files and directories currently installed.)\n",
            "Preparing to unpack .../00-cuda-cudart-11-2_11.2.146-1_amd64.deb ...\n",
            "Unpacking cuda-cudart-11-2 (11.2.146-1) ...\n",
            "Selecting previously unselected package cuda-nvrtc-11-2.\n",
            "Preparing to unpack .../01-cuda-nvrtc-11-2_11.2.142-1_amd64.deb ...\n",
            "Unpacking cuda-nvrtc-11-2 (11.2.142-1) ...\n",
            "Selecting previously unselected package libcublas-11-2.\n",
            "Preparing to unpack .../02-libcublas-11-2_11.4.1.1026-1_amd64.deb ...\n",
            "Unpacking libcublas-11-2 (11.4.1.1026-1) ...\n",
            "Selecting previously unselected package libcufft-11-2.\n",
            "Preparing to unpack .../03-libcufft-11-2_10.4.0.135-1_amd64.deb ...\n",
            "Unpacking libcufft-11-2 (10.4.0.135-1) ...\n",
            "Selecting previously unselected package libcurand-11-2.\n",
            "Preparing to unpack .../04-libcurand-11-2_10.2.3.135-1_amd64.deb ...\n",
            "Unpacking libcurand-11-2 (10.2.3.135-1) ...\n",
            "Selecting previously unselected package libcusolver-11-2.\n",
            "Preparing to unpack .../05-libcusolver-11-2_11.1.0.135-1_amd64.deb ...\n",
            "Unpacking libcusolver-11-2 (11.1.0.135-1) ...\n",
            "Selecting previously unselected package libcusparse-11-2.\n",
            "Preparing to unpack .../06-libcusparse-11-2_11.4.0.135-1_amd64.deb ...\n",
            "Unpacking libcusparse-11-2 (11.4.0.135-1) ...\n",
            "Selecting previously unselected package libnpp-11-2.\n",
            "Preparing to unpack .../07-libnpp-11-2_11.3.2.139-1_amd64.deb ...\n",
            "Unpacking libnpp-11-2 (11.3.2.139-1) ...\n",
            "Selecting previously unselected package libnvjpeg-11-2.\n",
            "Preparing to unpack .../08-libnvjpeg-11-2_11.4.0.135-1_amd64.deb ...\n",
            "Unpacking libnvjpeg-11-2 (11.4.0.135-1) ...\n",
            "Selecting previously unselected package cuda-libraries-11-2.\n",
            "Preparing to unpack .../09-cuda-libraries-11-2_11.2.1-1_amd64.deb ...\n",
            "Unpacking cuda-libraries-11-2 (11.2.1-1) ...\n",
            "Selecting previously unselected package cuda-runtime-11-2.\n",
            "Preparing to unpack .../10-cuda-runtime-11-2_11.2.1-1_amd64.deb ...\n",
            "Unpacking cuda-runtime-11-2 (11.2.1-1) ...\n",
            "Selecting previously unselected package cuda-cuobjdump-11-2.\n",
            "Preparing to unpack .../11-cuda-cuobjdump-11-2_11.2.135-1_amd64.deb ...\n",
            "Unpacking cuda-cuobjdump-11-2 (11.2.135-1) ...\n",
            "Selecting previously unselected package cuda-cuxxfilt-11-2.\n",
            "Preparing to unpack .../12-cuda-cuxxfilt-11-2_11.2.135-1_amd64.deb ...\n",
            "Unpacking cuda-cuxxfilt-11-2 (11.2.135-1) ...\n",
            "Selecting previously unselected package cuda-driver-dev-11-2.\n",
            "Preparing to unpack .../13-cuda-driver-dev-11-2_11.2.146-1_amd64.deb ...\n",
            "Unpacking cuda-driver-dev-11-2 (11.2.146-1) ...\n",
            "Selecting previously unselected package cuda-cudart-dev-11-2.\n",
            "Preparing to unpack .../14-cuda-cudart-dev-11-2_11.2.146-1_amd64.deb ...\n",
            "Unpacking cuda-cudart-dev-11-2 (11.2.146-1) ...\n",
            "Selecting previously unselected package cuda-nvcc-11-2.\n",
            "Preparing to unpack .../15-cuda-nvcc-11-2_11.2.142-1_amd64.deb ...\n",
            "Unpacking cuda-nvcc-11-2 (11.2.142-1) ...\n",
            "Selecting previously unselected package cuda-nvprune-11-2.\n",
            "Preparing to unpack .../16-cuda-nvprune-11-2_11.2.135-1_amd64.deb ...\n",
            "Unpacking cuda-nvprune-11-2 (11.2.135-1) ...\n",
            "Selecting previously unselected package cuda-compiler-11-2.\n",
            "Preparing to unpack .../17-cuda-compiler-11-2_11.2.1-1_amd64.deb ...\n",
            "Unpacking cuda-compiler-11-2 (11.2.1-1) ...\n",
            "Selecting previously unselected package cuda-nvrtc-dev-11-2.\n",
            "Preparing to unpack .../18-cuda-nvrtc-dev-11-2_11.2.142-1_amd64.deb ...\n",
            "Unpacking cuda-nvrtc-dev-11-2 (11.2.142-1) ...\n",
            "Selecting previously unselected package libcublas-dev-11-2.\n",
            "Preparing to unpack .../19-libcublas-dev-11-2_11.4.1.1026-1_amd64.deb ...\n",
            "Unpacking libcublas-dev-11-2 (11.4.1.1026-1) ...\n",
            "Selecting previously unselected package libcufft-dev-11-2.\n",
            "Preparing to unpack .../20-libcufft-dev-11-2_10.4.0.135-1_amd64.deb ...\n",
            "Unpacking libcufft-dev-11-2 (10.4.0.135-1) ...\n",
            "Selecting previously unselected package libcurand-dev-11-2.\n",
            "Preparing to unpack .../21-libcurand-dev-11-2_10.2.3.135-1_amd64.deb ...\n",
            "Unpacking libcurand-dev-11-2 (10.2.3.135-1) ...\n",
            "Selecting previously unselected package libcusolver-dev-11-2.\n",
            "Preparing to unpack .../22-libcusolver-dev-11-2_11.1.0.135-1_amd64.deb ...\n",
            "Unpacking libcusolver-dev-11-2 (11.1.0.135-1) ...\n",
            "Selecting previously unselected package libcusparse-dev-11-2.\n",
            "Preparing to unpack .../23-libcusparse-dev-11-2_11.4.0.135-1_amd64.deb ...\n",
            "Unpacking libcusparse-dev-11-2 (11.4.0.135-1) ...\n",
            "Selecting previously unselected package libnpp-dev-11-2.\n",
            "Preparing to unpack .../24-libnpp-dev-11-2_11.3.2.139-1_amd64.deb ...\n",
            "Unpacking libnpp-dev-11-2 (11.3.2.139-1) ...\n",
            "Selecting previously unselected package libnvjpeg-dev-11-2.\n",
            "Preparing to unpack .../25-libnvjpeg-dev-11-2_11.4.0.135-1_amd64.deb ...\n",
            "Unpacking libnvjpeg-dev-11-2 (11.4.0.135-1) ...\n",
            "Selecting previously unselected package cuda-libraries-dev-11-2.\n",
            "Preparing to unpack .../26-cuda-libraries-dev-11-2_11.2.1-1_amd64.deb ...\n",
            "Unpacking cuda-libraries-dev-11-2 (11.2.1-1) ...\n",
            "Selecting previously unselected package cuda-cupti-11-2.\n",
            "Preparing to unpack .../27-cuda-cupti-11-2_11.2.135-1_amd64.deb ...\n",
            "Unpacking cuda-cupti-11-2 (11.2.135-1) ...\n",
            "Selecting previously unselected package cuda-cupti-dev-11-2.\n",
            "Preparing to unpack .../28-cuda-cupti-dev-11-2_11.2.135-1_amd64.deb ...\n",
            "Unpacking cuda-cupti-dev-11-2 (11.2.135-1) ...\n",
            "Selecting previously unselected package cuda-nvdisasm-11-2.\n",
            "Preparing to unpack .../29-cuda-nvdisasm-11-2_11.2.135-1_amd64.deb ...\n",
            "Unpacking cuda-nvdisasm-11-2 (11.2.135-1) ...\n",
            "Selecting previously unselected package cuda-gdb-11-2.\n",
            "Preparing to unpack .../30-cuda-gdb-11-2_11.2.135-1_amd64.deb ...\n",
            "Unpacking cuda-gdb-11-2 (11.2.135-1) ...\n",
            "Selecting previously unselected package cuda-memcheck-11-2.\n",
            "Preparing to unpack .../31-cuda-memcheck-11-2_11.2.135-1_amd64.deb ...\n",
            "Unpacking cuda-memcheck-11-2 (11.2.135-1) ...\n",
            "Selecting previously unselected package cuda-nvprof-11-2.\n",
            "Preparing to unpack .../32-cuda-nvprof-11-2_11.2.135-1_amd64.deb ...\n",
            "Unpacking cuda-nvprof-11-2 (11.2.135-1) ...\n",
            "Selecting previously unselected package cuda-nvtx-11-2.\n",
            "Preparing to unpack .../33-cuda-nvtx-11-2_11.2.67-1_amd64.deb ...\n",
            "Unpacking cuda-nvtx-11-2 (11.2.67-1) ...\n",
            "Selecting previously unselected package cuda-sanitizer-11-2.\n",
            "Preparing to unpack .../34-cuda-sanitizer-11-2_11.2.135-1_amd64.deb ...\n",
            "Unpacking cuda-sanitizer-11-2 (11.2.135-1) ...\n",
            "Selecting previously unselected package cuda-command-line-tools-11-2.\n",
            "Preparing to unpack .../35-cuda-command-line-tools-11-2_11.2.1-1_amd64.deb ...\n",
            "Unpacking cuda-command-line-tools-11-2 (11.2.1-1) ...\n",
            "Selecting previously unselected package cuda-nsight-compute-11-2.\n",
            "Preparing to unpack .../36-cuda-nsight-compute-11-2_11.2.1-1_amd64.deb ...\n",
            "Unpacking cuda-nsight-compute-11-2 (11.2.1-1) ...\n",
            "Selecting previously unselected package cuda-nsight-systems-11-2.\n",
            "Preparing to unpack .../37-cuda-nsight-systems-11-2_11.2.1-1_amd64.deb ...\n",
            "Unpacking cuda-nsight-systems-11-2 (11.2.1-1) ...\n",
            "Selecting previously unselected package cuda-nsight-11-2.\n",
            "Preparing to unpack .../38-cuda-nsight-11-2_11.2.135-1_amd64.deb ...\n",
            "Unpacking cuda-nsight-11-2 (11.2.135-1) ...\n",
            "Selecting previously unselected package cuda-nvml-dev-11-2.\n",
            "Preparing to unpack .../39-cuda-nvml-dev-11-2_11.2.67-1_amd64.deb ...\n",
            "Unpacking cuda-nvml-dev-11-2 (11.2.67-1) ...\n",
            "Selecting previously unselected package cuda-nvvp-11-2.\n",
            "Preparing to unpack .../40-cuda-nvvp-11-2_11.2.135-1_amd64.deb ...\n",
            "Unpacking cuda-nvvp-11-2 (11.2.135-1) ...\n",
            "Selecting previously unselected package cuda-visual-tools-11-2.\n",
            "Preparing to unpack .../41-cuda-visual-tools-11-2_11.2.1-1_amd64.deb ...\n",
            "Unpacking cuda-visual-tools-11-2 (11.2.1-1) ...\n",
            "Selecting previously unselected package cuda-tools-11-2.\n",
            "Preparing to unpack .../42-cuda-tools-11-2_11.2.1-1_amd64.deb ...\n",
            "Unpacking cuda-tools-11-2 (11.2.1-1) ...\n",
            "Selecting previously unselected package cuda-samples-11-2.\n",
            "Preparing to unpack .../43-cuda-samples-11-2_11.2.135-1_amd64.deb ...\n",
            "Unpacking cuda-samples-11-2 (11.2.135-1) ...\n",
            "Selecting previously unselected package cuda-documentation-11-2.\n",
            "Preparing to unpack .../44-cuda-documentation-11-2_11.2.146-1_amd64.deb ...\n",
            "Unpacking cuda-documentation-11-2 (11.2.146-1) ...\n",
            "Selecting previously unselected package cuda-toolkit-11-2.\n",
            "Preparing to unpack .../45-cuda-toolkit-11-2_11.2.1-1_amd64.deb ...\n",
            "Unpacking cuda-toolkit-11-2 (11.2.1-1) ...\n",
            "Selecting previously unselected package cuda-demo-suite-11-2.\n",
            "Preparing to unpack .../46-cuda-demo-suite-11-2_11.2.67-1_amd64.deb ...\n",
            "Unpacking cuda-demo-suite-11-2 (11.2.67-1) ...\n",
            "Selecting previously unselected package cuda-11-2.\n",
            "Preparing to unpack .../47-cuda-11-2_11.2.1-1_amd64.deb ...\n",
            "Unpacking cuda-11-2 (11.2.1-1) ...\n",
            "Selecting previously unselected package cuda.\n",
            "Preparing to unpack .../48-cuda_11.2.1-1_amd64.deb ...\n",
            "Unpacking cuda (11.2.1-1) ...\n",
            "Setting up libcufft-11-2 (10.4.0.135-1) ...\n",
            "Setting up libcusparse-11-2 (11.4.0.135-1) ...\n",
            "Setting up libnpp-11-2 (11.3.2.139-1) ...\n",
            "Setting up cuda-nvrtc-11-2 (11.2.142-1) ...\n",
            "Setting up libcurand-11-2 (10.2.3.135-1) ...\n",
            "Setting up cuda-nvvp-11-2 (11.2.135-1) ...\n",
            "Setting up cuda-nvtx-11-2 (11.2.67-1) ...\n",
            "Setting up cuda-nvml-dev-11-2 (11.2.67-1) ...\n",
            "Setting up libnvjpeg-11-2 (11.4.0.135-1) ...\n",
            "Setting up cuda-nsight-compute-11-2 (11.2.1-1) ...\n",
            "Setting up libcufft-dev-11-2 (10.4.0.135-1) ...\n",
            "Setting up libcusparse-dev-11-2 (11.4.0.135-1) ...\n",
            "Setting up cuda-cuobjdump-11-2 (11.2.135-1) ...\n",
            "Setting up libcurand-dev-11-2 (10.2.3.135-1) ...\n",
            "Setting up libnpp-dev-11-2 (11.3.2.139-1) ...\n",
            "Setting up cuda-driver-dev-11-2 (11.2.146-1) ...\n",
            "Setting up cuda-cudart-11-2 (11.2.146-1) ...\n",
            "Setting up cuda-cuxxfilt-11-2 (11.2.135-1) ...\n",
            "Setting up libnvjpeg-dev-11-2 (11.4.0.135-1) ...\n",
            "Setting up cuda-memcheck-11-2 (11.2.135-1) ...\n",
            "Setting up cuda-cudart-dev-11-2 (11.2.146-1) ...\n",
            "Setting up cuda-nvprune-11-2 (11.2.135-1) ...\n",
            "Setting up cuda-nvrtc-dev-11-2 (11.2.142-1) ...\n",
            "Setting up cuda-nsight-11-2 (11.2.135-1) ...\n",
            "Setting up libcublas-11-2 (11.4.1.1026-1) ...\n",
            "Setting up cuda-sanitizer-11-2 (11.2.135-1) ...\n",
            "Setting up cuda-nvdisasm-11-2 (11.2.135-1) ...\n",
            "Setting up cuda-nsight-systems-11-2 (11.2.1-1) ...\n",
            "Setting up libcusolver-11-2 (11.1.0.135-1) ...\n",
            "Setting up cuda-nvprof-11-2 (11.2.135-1) ...\n",
            "Setting up cuda-libraries-11-2 (11.2.1-1) ...\n",
            "Setting up libcusolver-dev-11-2 (11.1.0.135-1) ...\n",
            "Setting up libcublas-dev-11-2 (11.4.1.1026-1) ...\n",
            "Setting up cuda-libraries-dev-11-2 (11.2.1-1) ...\n",
            "Setting up cuda-nvcc-11-2 (11.2.142-1) ...\n",
            "Setting up cuda-gdb-11-2 (11.2.135-1) ...\n",
            "Setting up cuda-runtime-11-2 (11.2.1-1) ...\n",
            "Setting up cuda-demo-suite-11-2 (11.2.67-1) ...\n",
            "Setting up cuda-samples-11-2 (11.2.135-1) ...\n",
            "Setting up cuda-compiler-11-2 (11.2.1-1) ...\n",
            "Setting up cuda-visual-tools-11-2 (11.2.1-1) ...\n",
            "Setting up cuda-documentation-11-2 (11.2.146-1) ...\n",
            "Setting up cuda-cupti-11-2 (11.2.135-1) ...\n",
            "Setting up cuda-cupti-dev-11-2 (11.2.135-1) ...\n",
            "Setting up cuda-command-line-tools-11-2 (11.2.1-1) ...\n",
            "Setting up cuda-tools-11-2 (11.2.1-1) ...\n",
            "Setting up cuda-toolkit-11-2 (11.2.1-1) ...\n",
            "Setting alternatives\n",
            "update-alternatives: using /usr/local/cuda-11.2 to provide /usr/local/cuda (cuda) in auto mode\n",
            "update-alternatives: using /usr/local/cuda-11.2 to provide /usr/local/cuda-11 (cuda-11) in auto mode\n",
            "Setting up cuda-11-2 (11.2.1-1) ...\n",
            "Setting up cuda (11.2.1-1) ...\n",
            "                            \n"
          ],
          "name": "stdout"
        }
      ]
    },
    {
      "cell_type": "markdown",
      "metadata": {
        "id": "6hNYzgdyMQVv"
      },
      "source": [
        "Check available GPUs.\n",
        "\n",
        "Refer to Answer to How to check if pytorch is using the GPU?, by vinzee, on Stack Overflow."
      ]
    },
    {
      "cell_type": "code",
      "metadata": {
        "id": "GjzAuxGsFF6j"
      },
      "source": [
        "import torch.cuda"
      ],
      "execution_count": null,
      "outputs": []
    },
    {
      "cell_type": "code",
      "metadata": {
        "id": "j915UNRPDfNv"
      },
      "source": [
        "device = torch.device('cuda:0') # if torch.cuda.is_available() else torch.device('cpu')"
      ],
      "execution_count": null,
      "outputs": []
    },
    {
      "cell_type": "code",
      "metadata": {
        "colab": {
          "base_uri": "https://localhost:8080/",
          "height": 36
        },
        "id": "xujME26mPf83",
        "outputId": "8ae11607-5f9e-4e39-a99c-438384fdd710"
      },
      "source": [
        "torch.cuda.is_available()\n",
        "torch.cuda.current_device()\n",
        "torch.cuda.device(0)\n",
        "torch.cuda.device_count()\n",
        "torch.cuda.get_device_name(0)"
      ],
      "execution_count": null,
      "outputs": [
        {
          "output_type": "execute_result",
          "data": {
            "application/vnd.google.colaboratory.intrinsic+json": {
              "type": "string"
            },
            "text/plain": [
              "'Tesla P100-PCIE-16GB'"
            ]
          },
          "metadata": {
            "tags": []
          },
          "execution_count": 26
        }
      ]
    },
    {
      "cell_type": "code",
      "metadata": {
        "colab": {
          "base_uri": "https://localhost:8080/"
        },
        "id": "gXAdZ6QZDqrg",
        "outputId": "3a627220-6752-453d-aa21-95e14d4e7af1"
      },
      "source": [
        "model.to(device)"
      ],
      "execution_count": null,
      "outputs": [
        {
          "output_type": "execute_result",
          "data": {
            "text/plain": [
              "UNet3D(\n",
              "  (down_tr64): DownTransition(\n",
              "    (ops): Sequential(\n",
              "      (0): LUConv(\n",
              "        (conv1): Conv3d(1, 32, kernel_size=(3, 3, 3), stride=(1, 1, 1), padding=(1, 1, 1))\n",
              "        (bn1): ContBatchNorm3d(32, eps=1e-05, momentum=0.1, affine=True, track_running_stats=True)\n",
              "        (activation): ReLU(inplace=True)\n",
              "      )\n",
              "      (1): LUConv(\n",
              "        (conv1): Conv3d(32, 64, kernel_size=(3, 3, 3), stride=(1, 1, 1), padding=(1, 1, 1))\n",
              "        (bn1): ContBatchNorm3d(64, eps=1e-05, momentum=0.1, affine=True, track_running_stats=True)\n",
              "        (activation): ReLU(inplace=True)\n",
              "      )\n",
              "    )\n",
              "    (maxpool): MaxPool3d(kernel_size=2, stride=2, padding=0, dilation=1, ceil_mode=False)\n",
              "  )\n",
              "  (down_tr128): DownTransition(\n",
              "    (ops): Sequential(\n",
              "      (0): LUConv(\n",
              "        (conv1): Conv3d(64, 64, kernel_size=(3, 3, 3), stride=(1, 1, 1), padding=(1, 1, 1))\n",
              "        (bn1): ContBatchNorm3d(64, eps=1e-05, momentum=0.1, affine=True, track_running_stats=True)\n",
              "        (activation): ReLU(inplace=True)\n",
              "      )\n",
              "      (1): LUConv(\n",
              "        (conv1): Conv3d(64, 128, kernel_size=(3, 3, 3), stride=(1, 1, 1), padding=(1, 1, 1))\n",
              "        (bn1): ContBatchNorm3d(128, eps=1e-05, momentum=0.1, affine=True, track_running_stats=True)\n",
              "        (activation): ReLU(inplace=True)\n",
              "      )\n",
              "    )\n",
              "    (maxpool): MaxPool3d(kernel_size=2, stride=2, padding=0, dilation=1, ceil_mode=False)\n",
              "  )\n",
              "  (down_tr256): DownTransition(\n",
              "    (ops): Sequential(\n",
              "      (0): LUConv(\n",
              "        (conv1): Conv3d(128, 128, kernel_size=(3, 3, 3), stride=(1, 1, 1), padding=(1, 1, 1))\n",
              "        (bn1): ContBatchNorm3d(128, eps=1e-05, momentum=0.1, affine=True, track_running_stats=True)\n",
              "        (activation): ReLU(inplace=True)\n",
              "      )\n",
              "      (1): LUConv(\n",
              "        (conv1): Conv3d(128, 256, kernel_size=(3, 3, 3), stride=(1, 1, 1), padding=(1, 1, 1))\n",
              "        (bn1): ContBatchNorm3d(256, eps=1e-05, momentum=0.1, affine=True, track_running_stats=True)\n",
              "        (activation): ReLU(inplace=True)\n",
              "      )\n",
              "    )\n",
              "    (maxpool): MaxPool3d(kernel_size=2, stride=2, padding=0, dilation=1, ceil_mode=False)\n",
              "  )\n",
              "  (down_tr512): DownTransition(\n",
              "    (ops): Sequential(\n",
              "      (0): LUConv(\n",
              "        (conv1): Conv3d(256, 256, kernel_size=(3, 3, 3), stride=(1, 1, 1), padding=(1, 1, 1))\n",
              "        (bn1): ContBatchNorm3d(256, eps=1e-05, momentum=0.1, affine=True, track_running_stats=True)\n",
              "        (activation): ReLU(inplace=True)\n",
              "      )\n",
              "      (1): LUConv(\n",
              "        (conv1): Conv3d(256, 512, kernel_size=(3, 3, 3), stride=(1, 1, 1), padding=(1, 1, 1))\n",
              "        (bn1): ContBatchNorm3d(512, eps=1e-05, momentum=0.1, affine=True, track_running_stats=True)\n",
              "        (activation): ReLU(inplace=True)\n",
              "      )\n",
              "    )\n",
              "    (maxpool): MaxPool3d(kernel_size=2, stride=2, padding=0, dilation=1, ceil_mode=False)\n",
              "  )\n",
              "  (up_tr256): UpTransition(\n",
              "    (up_conv): ConvTranspose3d(512, 512, kernel_size=(2, 2, 2), stride=(2, 2, 2))\n",
              "    (ops): Sequential(\n",
              "      (0): LUConv(\n",
              "        (conv1): Conv3d(768, 256, kernel_size=(3, 3, 3), stride=(1, 1, 1), padding=(1, 1, 1))\n",
              "        (bn1): ContBatchNorm3d(256, eps=1e-05, momentum=0.1, affine=True, track_running_stats=True)\n",
              "        (activation): ReLU(inplace=True)\n",
              "      )\n",
              "      (1): LUConv(\n",
              "        (conv1): Conv3d(256, 256, kernel_size=(3, 3, 3), stride=(1, 1, 1), padding=(1, 1, 1))\n",
              "        (bn1): ContBatchNorm3d(256, eps=1e-05, momentum=0.1, affine=True, track_running_stats=True)\n",
              "        (activation): ReLU(inplace=True)\n",
              "      )\n",
              "    )\n",
              "  )\n",
              "  (up_tr128): UpTransition(\n",
              "    (up_conv): ConvTranspose3d(256, 256, kernel_size=(2, 2, 2), stride=(2, 2, 2))\n",
              "    (ops): Sequential(\n",
              "      (0): LUConv(\n",
              "        (conv1): Conv3d(384, 128, kernel_size=(3, 3, 3), stride=(1, 1, 1), padding=(1, 1, 1))\n",
              "        (bn1): ContBatchNorm3d(128, eps=1e-05, momentum=0.1, affine=True, track_running_stats=True)\n",
              "        (activation): ReLU(inplace=True)\n",
              "      )\n",
              "      (1): LUConv(\n",
              "        (conv1): Conv3d(128, 128, kernel_size=(3, 3, 3), stride=(1, 1, 1), padding=(1, 1, 1))\n",
              "        (bn1): ContBatchNorm3d(128, eps=1e-05, momentum=0.1, affine=True, track_running_stats=True)\n",
              "        (activation): ReLU(inplace=True)\n",
              "      )\n",
              "    )\n",
              "  )\n",
              "  (up_tr64): UpTransition(\n",
              "    (up_conv): ConvTranspose3d(128, 128, kernel_size=(2, 2, 2), stride=(2, 2, 2))\n",
              "    (ops): Sequential(\n",
              "      (0): LUConv(\n",
              "        (conv1): Conv3d(192, 64, kernel_size=(3, 3, 3), stride=(1, 1, 1), padding=(1, 1, 1))\n",
              "        (bn1): ContBatchNorm3d(64, eps=1e-05, momentum=0.1, affine=True, track_running_stats=True)\n",
              "        (activation): ReLU(inplace=True)\n",
              "      )\n",
              "      (1): LUConv(\n",
              "        (conv1): Conv3d(64, 64, kernel_size=(3, 3, 3), stride=(1, 1, 1), padding=(1, 1, 1))\n",
              "        (bn1): ContBatchNorm3d(64, eps=1e-05, momentum=0.1, affine=True, track_running_stats=True)\n",
              "        (activation): ReLU(inplace=True)\n",
              "      )\n",
              "    )\n",
              "  )\n",
              "  (out_tr): OutputTransition(\n",
              "    (final_conv): Conv3d(64, 1, kernel_size=(1, 1, 1), stride=(1, 1, 1))\n",
              "    (sigmoid): Sigmoid()\n",
              "  )\n",
              ")"
            ]
          },
          "metadata": {
            "tags": []
          },
          "execution_count": 27
        }
      ]
    },
    {
      "cell_type": "code",
      "metadata": {
        "id": "JKvK5amCDw6Z"
      },
      "source": [
        "loss_history = []\n",
        "loss_history_val = []"
      ],
      "execution_count": null,
      "outputs": []
    },
    {
      "cell_type": "code",
      "metadata": {
        "id": "jMzvAySADzHw"
      },
      "source": [
        "best_loss_val = float('inf')"
      ],
      "execution_count": null,
      "outputs": []
    },
    {
      "cell_type": "markdown",
      "metadata": {
        "id": "AwXsKLU8D29A"
      },
      "source": [
        "Training"
      ]
    },
    {
      "cell_type": "code",
      "metadata": {
        "colab": {
          "base_uri": "https://localhost:8080/"
        },
        "id": "qYdDcoOJD0rx",
        "outputId": "33fb067c-3346-4614-b4bf-8f5b0b00d547"
      },
      "source": [
        "print(\"Start training.\")\n",
        "for epoch in range(10): # Originally 50\n",
        "\n",
        "    model.train()\n",
        "    loss_running = []\n",
        "    for _, (x,y) in enumerate(train_dataloader):\n",
        "        x, y = x.float().to(device), y.float().to(device)\n",
        "        \n",
        "        pred = model(x)\n",
        "        loss = criterion(pred, y)\n",
        "        loss_running.append(loss.item())\n",
        "\n",
        "        optimizer.zero_grad()\n",
        "        loss.backward()\n",
        "        optimizer.step()\n",
        "       \n",
        "    loss_history.append(np.mean(loss_running))\n",
        "\n",
        "    model.eval()\n",
        "    with torch.no_grad():\n",
        "        loss_val_running = []\n",
        "        for _, (x_val, y_val) in enumerate(val_dataloader):\n",
        "            x_val, y_val = x_val.to(device), y_val.to(device)\n",
        "            pred_val = model.forward(x_val) #pred_val = model(x_val)\n",
        "            loss_val= criterion(pred_val, y_val)\n",
        "            loss_val_running.append(loss_val.item())\n",
        "    \n",
        "    curr_loss_val = np.mean(loss_val_running)\n",
        "    loss_history_val.append(curr_loss_val)\n",
        "\n",
        "    if curr_loss_val < best_loss_val:\n",
        "        best_loss_val = curr_loss_val\n",
        "        torch.save(model.state_dict(), '/gdrive/My Drive/best_model.pth')\n",
        "\n",
        "    scheduler.step()\n",
        "\n",
        "    print(\"epoch\", epoch, \"train loss\", loss_history[-1], \"val loss\", loss_history_val[-1])"
      ],
      "execution_count": null,
      "outputs": [
        {
          "output_type": "stream",
          "text": [
            "Start training.\n",
            "epoch 0 train loss 0.7446626443843373 val loss 0.7524707038681229\n",
            "epoch 1 train loss 0.7264498504458881 val loss 0.7395690524732912\n",
            "epoch 2 train loss 0.7211288971490547 val loss 0.7225428138460431\n",
            "epoch 3 train loss 0.7174075757382345 val loss 0.7219881601147837\n",
            "epoch 4 train loss 0.7118232912704593 val loss 0.7126493678464518\n",
            "epoch 5 train loss 0.6741519422804723 val loss 0.6830378186393093\n",
            "epoch 6 train loss 0.6725338343225542 val loss 0.6873202699345428\n",
            "epoch 7 train loss 0.6666937446496526 val loss 0.697203875362099\n",
            "epoch 8 train loss 0.6590141191345746 val loss 0.7042116453121234\n",
            "epoch 9 train loss 0.6624449988857645 val loss 0.6854781162042123\n"
          ],
          "name": "stdout"
        }
      ]
    },
    {
      "cell_type": "markdown",
      "metadata": {
        "id": "cD3Tc3N6jwp2"
      },
      "source": [
        "Visualization"
      ]
    },
    {
      "cell_type": "code",
      "metadata": {
        "id": "JKEp6bnvMlJi"
      },
      "source": [
        "def plot_mask(mask_3d_array, axx):\n",
        "  mask_cpu = mask_3d_array.cpu().detach().numpy()\n",
        "  reshaped_mask_cpu = np.reshape(mask_cpu,(512, 512))\n",
        "  print(np.max(reshaped_mask_cpu), np.min(reshaped_mask_cpu))\n",
        "  reshaped_mask_cpu_bin = np.round(reshaped_mask_cpu)\n",
        "  axx.imshow(reshaped_mask_cpu_bin)"
      ],
      "execution_count": null,
      "outputs": []
    },
    {
      "cell_type": "code",
      "metadata": {
        "id": "eAKRBoYYM1IS",
        "colab": {
          "base_uri": "https://localhost:8080/",
          "height": 736
        },
        "outputId": "e21a6814-a774-4ce9-df72-c39afc6833b8"
      },
      "source": [
        "import random\n",
        "import matplotlib.pyplot as plt\n",
        "\n",
        "dataloader = test_dataloader\n",
        "ncol = 4\n",
        "rand_ndx = random.sample(range(0, len(dataloader)), ncol)\n",
        "fig, ax = plt.subplots(nrows=2,  ncols=ncol, figsize=(20, 10))\n",
        "i = 0\n",
        "for n, (x, y) in enumerate(dataloader):\n",
        "  x, y = x.to(device), y.to(device)\n",
        "  if n in rand_ndx:\n",
        "    pred = model.forward(x)\n",
        "    plot_mask(pred[0,0,:,:,:], ax[0][i])\n",
        "    plot_mask(y[0,0,:,:,:], ax[1][i])\n",
        "    i += 1"
      ],
      "execution_count": null,
      "outputs": [
        {
          "output_type": "stream",
          "text": [
            "0.9785538 2.1595317e-12\n",
            "1.0 0.0\n",
            "0.9785538 1.0771206e-11\n",
            "1.0 0.0\n",
            "0.9785538 1.4268584e-10\n",
            "1.0 0.0\n",
            "0.9785538 1.8579047e-12\n",
            "1.0 0.0\n"
          ],
          "name": "stdout"
        },
        {
          "output_type": "display_data",
          "data": {
            "image/png": "[encoded data removed]",
            "text/plain": [
              "<Figure size 1440x720 with 8 Axes>"
            ]
          },
          "metadata": {
            "tags": [],
            "needs_background": "light"
          }
        }
      ]
    }
  ]
}